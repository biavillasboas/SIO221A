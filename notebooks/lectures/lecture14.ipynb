{
 "cells": [
  {
   "cell_type": "markdown",
   "metadata": {},
   "source": [
    "# Analysis of Physical Oceanographic Data - SIO 221A\n",
    "### Python version of [Sarah Gille's](http://pordlabs.ucsd.edu/sgille/sioc221a/index.html) notes by:\n",
    "#### Bia Villas Bôas (avillasboas@ucsd.edu) & Gui Castelão (castelao@ucsd.edu)"
   ]
  },
  {
   "cell_type": "markdown",
   "metadata": {},
   "source": [
    "## Lecture 14"
   ]
  },
  {
   "cell_type": "markdown",
   "metadata": {},
   "source": [
    "*Reading:  Bendat and Piersol, Ch. 5.1-5.2, with attention to cross-covariance and cross-spectrum*"
   ]
  },
  {
   "cell_type": "markdown",
   "metadata": {},
   "source": [
    "#### Covariance\n",
    "\n",
    "Early in the quarter we discussed the variance, and we left for later\n",
    "the concept of correlation or covariance.  If we want to compare\n",
    "two time series, we can compute the variance of one record relative to\n",
    "the other.  Formally we can write:\n",
    "\n",
    "\\begin{equation}\n",
    "\\text{cov}({x,y}) = \\langle x(t) y(t)\\rangle. \\hspace{3cm} (1)\n",
    "\\end{equation}\n",
    "\n",
    "or in discrete terms\n",
    "\n",
    "\\begin{equation}\n",
    "\\text{cov}({x,y}) = \\frac{1}{N}\\sum_{i=1}^N x_i y_i. \\hspace{3cm} (2)\n",
    "\\end{equation}\n",
    "\n",
    "For comparison purposes, we often normalize this to produce a\n",
    "correlation coefficient, which is normalized by the variance:\n",
    "\n",
    "\\begin{equation}\n",
    "r = \\frac{\\frac{1}{N}\\sum_{i=1}^N x_i y_i}{\\sqrt{\\frac{1}{N} \\sum_{i=1}^N x_i^2\n",
    "\\frac{1}{N} \\sum_{i=1}^N y_i^2}}. \\hspace{3cm} (3)\n",
    "\\end{equation}\n",
    "\n",
    "(You might wonder how to judge whether a correlation coefficient is\n",
    "statistically significant.  Correlation coefficients should have a Gaussian\n",
    "distribution, which means that cumulative distribution function will be\n",
    "an error function.  We can use this to determine the correlation coefficient\n",
    "that we might expect from an equivalent number of random white noise\n",
    "variables:\n",
    "\n",
    "\\begin{equation}\n",
    "\\delta r = \\text{erf}^{-1}(p) \\sqrt{\\frac{2}{N}} \\hspace{3cm} (4)\n",
    "\\end{equation}\n",
    "\n",
    "where $p$ is the significance level we want to consider, typically 0.95,\n",
    "and $N$ is the effective number of degrees of freedom.)"
   ]
  },
  {
   "cell_type": "markdown",
   "metadata": {},
   "source": [
    "#### Coherence\n",
    "\n",
    "Coherence provides information that is analagous to a correlation\n",
    "coefficient for Fourier transforms. It tells us whether two series\n",
    "are statistically\n",
    "linked at any specific frequency.  This can be important if we think that\n",
    "the records are noisy or otherwise uncorrelated at some frequencies, but\n",
    "that they also contain statistically correlated signals.\n",
    "\n",
    "To compute coherence, first we need a cross-spectrum.  (We looked\n",
    "at this in passing when we considered Parseval's theorem, but at that\n",
    "stage, I quickly set my different variables equal to each other.)  Consider\n",
    "two time series $x(t)$ and $y(t)$:\n",
    "\n",
    "\\begin{eqnarray}\n",
    "x(t) & = & \\sum_{n=-\\infty}^{\\infty} X_n e^{i2\\pi f_n t} \\hspace{3cm} (5)\\\\\n",
    "y(t) & = & \\sum_{n=-\\infty}^{\\infty} Y_n e^{i2\\pi f_n t} \\hspace{3cm} (6)\n",
    "\\end{eqnarray}\n",
    "\n",
    "The the cross spectrum is computed in analogy with the spectrum:\n",
    "\n",
    "\\begin{equation}\n",
    "\\hat{S}_{XY}(f_m)= \\frac{\\langle X_m^* Y_m\\rangle}{T}\\hspace{3cm} (7)\n",
    "\\end{equation}\n",
    "\n",
    "The relationship between the cross-spectrum and the covariance is analogous\n",
    "to the relationship between the spectrum and the variance.  There are\n",
    "some important details to notice.\n",
    "\n",
    "1. The cross spectrum is complex, while the spectrum was real.\n",
    "2. The cross spectrum is computed as an average of multiple spectral segments.\n",
    "3. In our discrete Fourier transform, we should be normalizing by $N$, as always, but we're mostly concerned with relative values.\n",
    "\n",
    "The cross-spectrum is complex, and when we use it we distinguish between\n",
    "the real and imaginary parts.\n",
    "The real part is called the \"*co-spectrum*\":\n",
    "\n",
    "\\begin{equation}\n",
    "C(f_k) = \\frac{1}{N} \\Re{\\sum_{n=1}^N(X_k Y_k^*)} \\hspace{3cm} (8)\n",
    "\\end{equation}\n",
    "and the imaginary part is called the \"*quadrature spectrum*\"\n",
    "\n",
    "\\begin{equation}\n",
    "Q(f_k) = \\frac{1}{N} \\Im{\\sum_{n=1}^N(X_k Y_k^*)}. \\hspace{3cm} (9)\n",
    "\\end{equation}"
   ]
  },
  {
   "cell_type": "markdown",
   "metadata": {},
   "source": [
    "To determine the frequency-space relationship between two data sets $x_n$ and\n",
    "$y_n$, we first divide them into segments and Fourier transform them, so that\n",
    "we have a set of $X_k$'s and a set of $Y_k$'s.  When we computed spectra,\n",
    "we found the amplitude of each $X_k$ and then summed over all our segments.\n",
    "Now we're going to do something slightly different.  For each segment pair,\n",
    "we'll compute the product of $X$ times the complex conjugate of $Y$:\n",
    "$X_k Y_k^*$.  Then we'll sum over all the segments.  In Python this becomes\n",
    "\n",
    "```python\n",
    "np.sum(X*Y.conjugate(), axis=0)\n",
    "````\n",
    "The corresponding amplitude is $\\sqrt{C^2(f_k) + Q^2(f_k)}$.\n",
    "For comparison the spectra for $X$ was:\n",
    "\n",
    "\\begin{equation}\n",
    "S_{xx}(f_k) = \\frac{1}{N} \\sum_{n=1}^N X_k X_k^*, \\hspace{3cm} (10)\n",
    "\\end{equation}\n",
    "\n",
    "and it was always real.\n",
    "\n",
    "The coherence resembles a correlation coefficient.  It's the amplitude squared\n",
    "divided by the power spectral amplitudes for each of the two components:\n",
    "\n",
    "\\begin{equation}\n",
    "\\gamma_{xy}^2(f_k) = \\frac{C^2(f_k) + Q^2(f_k)}{S_{xx}(f_k) S_{yy}(f_k)}.\\hspace{3cm} (11)\n",
    "\\end{equation}\n",
    "\n",
    "(Sometimes you'll see $G_{xx}$, $G_{yy}$, and $G_{xy}$ in place of $S_{xx}$,\n",
    "$S_{yy}$, and $S_{xy}$.  Bendat and Piersol define $S$ to represent the two\n",
    "sided cross-spectra density and $G$ to represent to represent one-sided spectra.)\n",
    "\n",
    "In addition to the coherence amplitude, we can also infer a phase.\n",
    "The phase $\\phi(f_k) = \\tan^{-1}(-Q(f_k)/C(f_k))$\n",
    "tells us the timing difference between the two time series.  If $\\phi = 0$,\n",
    "changes in $x$ and $y$ happen at the same time.  If $\\phi = \\pi$, then\n",
    "$x$ is at a peak when $y$ is at a trough.  And a value of $\\phi=\\pi/2$ or\n",
    "$\\phi=-\\pi/2$ tells us that the records are a quarter cycle different."
   ]
  },
  {
   "cell_type": "markdown",
   "metadata": {},
   "source": [
    "#### Digression:  Extracting phase information from the Fourier coefficients\n",
    "\n",
    "After all this effort to square Fourier coefficients, you might wonder\n",
    "what the real and imaginary parts are really good for.  They are useful\n",
    "for sorting out the phasing of your sinusoidal oscillations.  When is\n",
    "the amplitude at a maximum?  To do this you can keep in mind that\n",
    "\n",
    "\\begin{equation}\n",
    "A\\cos(\\sigma t + \\phi) = a\\cos(\\sigma t) + b\\sin(\\sigma t). \\hspace{3cm} (12)\n",
    "\\end{equation}\n",
    "\n",
    "This can be rewritten:\n",
    "\n",
    "\\begin{equation}\n",
    "\\cos(\\sigma t)\\cos(\\phi) - \\sin(\\sigma t)\\sin(\\phi) = \\frac{a}{A}\\cos(\\sigma t) + \\frac{b}{A}\\sin(\\sigma t), \\hspace{3cm} (13)\n",
    "\\end{equation}\n",
    "\n",
    "which means that\n",
    "\n",
    "\\begin{eqnarray}\n",
    "\\frac{a}{A} & = & \\cos(\\phi) \\hspace{3cm} (14)\\\\\n",
    "\\frac{b}{A} & = & -\\sin(\\phi) \\hspace{3cm} (15)\n",
    "\\end{eqnarray}\n",
    "\n",
    "so\n",
    "\n",
    "\\begin{equation}\n",
    "\\phi=\\mbox{atan}\\left(-\\frac{b}{a}\\right). \\hspace{3cm} (16)\n",
    "\\end{equation}\n",
    "\n",
    "Actually there's more information in the Fourier coefficients than this\n",
    "conveys, since you know the signs of both $a$ and $b$, and not just their\n",
    "relative magnitudes. The arctangent function doesn't distinguish +45\\degrees\n",
    "from -135\\degrees, but we can.  In some numerical implementations, you can\n",
    "address this using a function called `arctan2`."
   ]
  },
  {
   "cell_type": "markdown",
   "metadata": {},
   "source": [
    "```python\n",
    "phi = np.arcatan2(-b, a)\n",
    "```"
   ]
  },
  {
   "cell_type": "markdown",
   "metadata": {},
   "source": [
    "#### Coherence:  Hypothetical Example for Mission Bay Channel\n",
    "\n",
    "The power of coherence comes because it gives us a means to compare two\n",
    "different variables.  With spectra we can ask, is there energy at a given\n",
    "frequency?  With coherence we can ask whether wind energy at a given\n",
    "frequency drives an ocean response at a given frequency.  Does the ocean\n",
    "respond to buoyancy forcing?  Does momentum vary with wind?  Does\n",
    "one geographic location vary with another location?  Coherence is our\n",
    "window into the underlying physics of the system.\n",
    "\n",
    "Let's put this to work, starting with an idealized case:\n",
    "Suppose we want to estimate currents entering and leaving the Mission\n",
    "Bay Channel.  How do waves travel through the channel?  We can represent\n",
    "this with a dispersion relationship describing the dominant propagation\n",
    "in frequency-wavenumber space:  $k=K(f)$.\n",
    "\n",
    "You could imagine measuring Mission Bay by installing one current meter\n",
    "(with a cost of \\\\$10-\\\\$20,000), but another approach is to install a couple\n",
    "of pressure\n",
    "recorders along the axis of the channel (at a cost of \\\\$1000 each).\n",
    "Let's assume all waves come from the ocean, and travel along\n",
    "the channel axis at speed $V=c+U_{current}$, where $c$ is the wave speed\n",
    "and $U_{current}$ the background current speed.  If the waves are\n",
    "surface gravity waves, $c=\\sqrt{gD}$.  The sensors measure time series\n",
    "of pressure only, so provide frequency information $f$.  How does\n",
    "$f$ relate to velocity?  If we have a wavenumber $2\\pi k=2\\pi/\\lambda$,\n",
    "what does the pressure sensor see?  It will detect frequencies $f=kV =\n",
    "k(c+U_{current})$.  So we can compute the cross spectrum between our\n",
    "two records."
   ]
  },
  {
   "cell_type": "markdown",
   "metadata": {},
   "source": [
    "Let's test this out.  We'll define a hypothetical data set:"
   ]
  },
  {
   "cell_type": "code",
   "execution_count": null,
   "metadata": {},
   "outputs": [],
   "source": [
    "import numpy as np\n",
    "from numpy import pi, cos, sin\n",
    "import matplotlib.pyplot as plt\n",
    "\n",
    "np.random.seed(0)\n",
    "\n",
    "N = 5000\n",
    "lamb = 10 #10 m wavelength\n",
    "V = 0.3 #0.3 m/s propagation\n",
    "n2s = 0.2 #noise-to-signal ratio\n",
    "time = np.arange(N)\n",
    "x = n2s*np.random.randn(N) + cos(2*pi/lamb*V*time)\n",
    "y = n2s*np.random.randn(N) + cos(2*pi/lamb*V*time + pi/2)\n",
    "\n",
    "fig, (ax1, ax2) = plt.subplots(2, 1, figsize=(12, 8))\n",
    "ax1.plot(time, x)\n",
    "ax1.plot(time, y)\n",
    "ax2.plot(time[:50], x[:50])\n",
    "ax2.plot(time[:50], y[:50])"
   ]
  },
  {
   "cell_type": "markdown",
   "metadata": {},
   "source": [
    "What happens if you Fourier transform without bothering to segment?\n",
    "Then the data end up being unrevealing. We can demonstrate this:"
   ]
  },
  {
   "cell_type": "code",
   "execution_count": null,
   "metadata": {},
   "outputs": [],
   "source": [
    "fx = np.fft.fft(x)\n",
    "fy = np.fft.fft(y)\n",
    "sx = abs(fx[:N//2+1])**2\n",
    "sx[1:-1] = 2*sx[1:-1]\n",
    "\n",
    "sy = abs(fy[:N//2+1])**2\n",
    "sy[1:-1] = 2*sy[1:-1]\n",
    "\n",
    "cxy = fx[:N//2+1].conjugate()*fy[:N//2+1] \n",
    "cxy[1:-1] = 2*cxy[1:-1]\n",
    "C = abs(cxy)/np.sqrt(sx*sy)"
   ]
  },
  {
   "cell_type": "code",
   "execution_count": null,
   "metadata": {},
   "outputs": [],
   "source": [
    "plt.plot(C)"
   ]
  },
  {
   "cell_type": "markdown",
   "metadata": {},
   "source": [
    "In this case, the coherence is 1 everywhere.  Why is that?\n",
    "Because without averaging, we're merely computing:\n",
    "\n",
    "\\begin{eqnarray}\n",
    "\\gamma_{xy}^2 & = & \\frac{(X^*Y)^* (X^*Y)}{X^*X Y^*Y} \\hspace{3cm} (17)\\\\\n",
    "       & = & \\frac{XY^*X^*Y}{X^*X Y^*Y} \\hspace{3cm} (18)\\\\\n",
    "       & = & \\frac{X^*X Y^*Y}{X^*X Y^*Y} \\hspace{3cm} (19)\\\\\n",
    "       & = & 1 \\hspace{3cm} (20)\n",
    "\\end{eqnarray}\n",
    "\n",
    "When it's done properly,\n",
    "coherence measures how well different segments of $x$ and $y$\n",
    "show the same type of relationship at a given frequency.\n",
    "We need the averaging to find out if the phase relationship between\n",
    "$x$ and $y$ is repeatable.  With only one segment, both $x$ and $y$\n",
    "are guaranteed to have information at each frequency with a definable\n",
    "phase relationship between $x$ and $y$.  The multiple segments allow\n",
    "us to test whether this phase relationship is relatively stable in\n",
    "time:  does $x$ always lead $y$ by about the same fraction of a cycle?"
   ]
  },
  {
   "cell_type": "markdown",
   "metadata": {},
   "source": [
    "When it's done properly,\n",
    "coherence measures how well different segments of $x$ and $y$\n",
    "show the same type of relationship at a given frequency.\n",
    "We need the averaging to find out if the phase relationship between\n",
    "$x$ and $y$ is repeatable.  With only one segment, both $x$ and $y$\n",
    "are guaranteed to have information at each frequency with a definable\n",
    "phase relationship between $x$ and $y$.  The multiple segments allow\n",
    "us to test whether this phase relationship is relatively stable in\n",
    "time:  does $x$ always lead $y$ by about the same fraction of a cycle?\n",
    "\n",
    "To do the coherence calculation more constructively, we determine the frequency-space relationship between two data sets $x_n$ and\n",
    "$y_n$, by first dividing them into segments and then Fourier transforming\n",
    "them, so that\n",
    "we have a set of $X_k$'s and a set of $Y_k$'s.  When we computed spectra,\n",
    "we found the amplitude of each $X_k$ and then summed over all our segments.\n",
    "Now we're going to do something slightly different.  For each segment pair,\n",
    "we'll compute the product of $X$ times the complex conjugate of $Y$:\n",
    "$X_k Y_k^*$.  Then we'll sum over all the segments.\n",
    "In Python this becomes:"
   ]
  },
  {
   "cell_type": "code",
   "execution_count": null,
   "metadata": {},
   "outputs": [],
   "source": [
    "import sys\n",
    "sys.path.append('../../tools/')\n",
    "\n",
    "from segment import overlapping_segments1D "
   ]
  },
  {
   "cell_type": "code",
   "execution_count": null,
   "metadata": {},
   "outputs": [],
   "source": [
    "segment_length = 500\n",
    "x_use = overlapping_segments1D(x, segment_length, overlap=0.5)\n",
    "y_use = overlapping_segments1D(y, segment_length, overlap=0.5)\n",
    "M, p = y_use.shape\n",
    "print(x_use.shape)\n",
    "print(y_use.shape)"
   ]
  },
  {
   "cell_type": "code",
   "execution_count": null,
   "metadata": {},
   "outputs": [],
   "source": [
    "fx = np.fft.fft(x_use, axis=-1) #should window and detrend here, but we're\n",
    "#skipping that for now\n",
    "fy = np.fft.fft(y_use, axis=-1)\n",
    "\n",
    "sx = np.sum(abs(fx[:, :p//2+1]/p)**2, axis=0)\n",
    "sx[1:-1] = 2*sx[1:-1]\n",
    "\n",
    "sy = np.sum(abs(fy[:, :p//2+1]/p)**2, axis=0)\n",
    "sy[1:-1] = 2*sy[1:-1]\n",
    "\n",
    "cxy = np.sum(fx[:, :p//2+1].conjugate()*fy[:, :p//2+1]/p/p, axis=0) \n",
    "cxy[1:-1] = 2*cxy[1:-1]\n",
    "C = abs(cxy)/np.sqrt(sx*sy)\n",
    "\n",
    "phase_C = np.arctan2(-cxy.imag, cxy.real)"
   ]
  },
  {
   "cell_type": "code",
   "execution_count": null,
   "metadata": {},
   "outputs": [],
   "source": [
    "fig, (ax1, ax2) = plt.subplots(1, 2, figsize=(14, 6))\n",
    "ax1.plot(C)\n",
    "ax1.set_ylabel('Coherence', fontsize=14)\n",
    "ax2.plot(phase_C*180/pi)\n",
    "ax2.set_ylabel('Phase [degrees]', fontsize=14)"
   ]
  },
  {
   "cell_type": "markdown",
   "metadata": {},
   "source": [
    "The phase difference that emerges from this is only relevant at the phase\n",
    "where there is coherence energy (15 cycles/1000 points in the example above),\n",
    "and in that case the phase is a quarter cycle different, with relatively\n",
    "small error bars.  If we reverse the\n",
    "order of $x$ and $y$, we'll find negative phase, so a lead will turn into a\n",
    "lag.\n",
    "`\n",
    "\n",
    "The phase $\\phi(f_k) = \\tan^{-1}(-Q(f_k)/C(f_k))$\n",
    "tells us the timing difference between the two time series.  If $\\phi = 0$,\n",
    "changes in $x$ and $y$ happen at the same time.  If $\\phi = \\pi$, then\n",
    "$x$ is at a peak when $y$ is at a trough.  And a value of $\\phi=\\pi/2$ or\n",
    "$\\phi=-\\pi/2$ tells us that the records are a quarter cycle different."
   ]
  },
  {
   "cell_type": "markdown",
   "metadata": {},
   "source": [
    "#### Example:  Coherence and Wave Spectra\n",
    "\n",
    "So let's see whether surfboard acceleration measurements show any\n",
    "signs of coherence.\n",
    "We'll start by comparing vertical and horizontal accelerations of\n",
    "the free floating accelerometer, as shown in Figure 1.\n",
    "\n",
    "<img src=\"files/lec14f1.png\" alt=\"fig1\" width=\"500\"/>\n",
    "\n",
    "Figure 1: *Time series of vertical acceleration and x-axis accleration for free-floating accelerometer near\n",
    "Scripps pier.*"
   ]
  },
  {
   "cell_type": "markdown",
   "metadata": {},
   "source": [
    "These two records have rather different spectra as shown in\n",
    "Figure 2.\n",
    "\n",
    "<img src=\"files/lec14f2.png\" alt=\"fig1\" width=\"500\"/>\n",
    "\n",
    "Figure 2: *Spectra for vertical and $x$ acceleration of free-floating\n",
    "accelerometer near Scripps pier.*\n",
    "\n",
    "\n",
    "The two records are coherent, as shown in Figure 3.\n",
    "with a phase difference of roughly $\\pi$ radians, implying that they are\n",
    "180$^\\circ$ out of phase, at least at the frequencies at which they are\n",
    "actually coherent.\n",
    "\n",
    "<img src=\"files/lec14f3.png\" alt=\"fig1\" width=\"500\"/>\n",
    "\n",
    "Figure 3: *(top) Coherence of vertical and $x$ acceleration of free-floating\n",
    "accelerometer near Scripps pier.\n",
    "(bottom) Phase difference between vertical and $x$ acceleration components.*\n",
    "\n",
    "         \n",
    "In contrast, the vertical acceleration for the free floating accelerometer\n",
    "is not coherent with vertical acceleration from the shortboard.\n",
    "\n",
    "<img src=\"files/lec14f4.png\" alt=\"fig1\" width=\"500\"/>\n",
    "\n",
    "Figure 4: *(top) Coherence of vertical acceleration of free-floating\n",
    "accelerometer versus shortboard accelerometer near Scripps pier.\n",
    "(bottom) Phase difference.*"
   ]
  },
  {
   "cell_type": "code",
   "execution_count": null,
   "metadata": {},
   "outputs": [],
   "source": []
  }
 ],
 "metadata": {
  "kernelspec": {
   "display_name": "Python 3 (ipykernel)",
   "language": "python",
   "name": "python3"
  },
  "language_info": {
   "codemirror_mode": {
    "name": "ipython",
    "version": 3
   },
   "file_extension": ".py",
   "mimetype": "text/x-python",
   "name": "python",
   "nbconvert_exporter": "python",
   "pygments_lexer": "ipython3",
   "version": "3.9.7"
  }
 },
 "nbformat": 4,
 "nbformat_minor": 4
}

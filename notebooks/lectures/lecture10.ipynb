{
 "cells": [
  {
   "cell_type": "markdown",
   "metadata": {},
   "source": [
    "# Analysis of Physical Oceanographic Data - SIO 221A\n",
    "### Python version of [Sarah Gille's](http://pordlabs.ucsd.edu/sgille/sioc221a/index.html) notes by:\n",
    "#### Bia Villas Bôas (avillasboas@ucsd.edu) & Gui Castelão (castelao@ucsd.edu)"
   ]
  },
  {
   "cell_type": "markdown",
   "metadata": {},
   "source": [
    "## Lecture 10"
   ]
  },
  {
   "cell_type": "markdown",
   "metadata": {},
   "source": [
    "*Reading:  Bendat and Piersol, Ch. 5.2.1*"
   ]
  },
  {
   "cell_type": "markdown",
   "metadata": {},
   "source": [
    "**Recap**\n",
    "\n",
    "Last time we looked at the sinc function, windowing, and detrending with an eye to\n",
    "reducing edge effects in our spectra.\n",
    "We've got a full recipe, but we stopped at a cliffhanger problem:  how many degrees\n",
    "of freedom do we really have?\n",
    "\n",
    "We'll try to sort this out today, along with venturing into Monte Carlo simulation.\n",
    "\n",
    "\n",
    "**Windowing and overlapping segments**\n",
    "\n",
    "So a quick recap.  When we filter, we convolve the filter with our\n",
    "data in the time domain, which is equivalent to multiplying in the\n",
    "frequency domain.  When we window, we multiply by a tapered window\n",
    "in the time domain, which is equivalent to convolving in the frequency\n",
    "domain.\n",
    "\n",
    "How many degrees of freedom do you have for overlapping windows.  Not\n",
    "$2\\nu$ but close to that.  Bendat and Piersol usefully say that overlapping\n",
    "by 50\\% will recover about 90\\% of the stability lost due to tapering.\n",
    "\n",
    "\n",
    "The windowed spectra that we've discussed as a basic approach in class are\n",
    "referred to by a number of names in the literature.  Some textbooks refer\n",
    "to windowing as \"tapering\".  And the formal method is sometimes called\n",
    "the Welch method.  Percival and Walden (*Spectral Analysis for\n",
    "Physical Applications*, Cambridge University Press, 1993) provide\n",
    "a detailed discussion of this approach under the name \"Welch's Overlapping Segment Averaging (WOSA)\".\n",
    "\n",
    "Our overarching concern is that we adhere to Parseval's theorem.  Since the\n",
    "window default normalization can reduce the variance, this will typically\n",
    "require that we scale up appropriately\n",
    "to conserve energy/variance (e.g. by $\\sqrt{8/3}$ for\n",
    "a Hanning window).  How do you find this scale factor?  One way is to\n",
    "sum over a wide window.  For example:\n",
    "\n",
    "```\n",
    "N = 10000\n",
    "print(np.sum(np.hanning(N)**2)/N, 3/8)\n",
    "print(np.sum(np.hamming(N)8*2/N, 0.3974)\n",
    "```\n",
    "\n",
    "Will the window preserve energy in your system?  Not necessarily.  You can\n",
    "normalize it appropriately, but windowing can shift the background energy\n",
    "level of your spectrum relative to the spectral peaks,\n",
    "and you'll want to keep track pay attention to the possibility of biases resulting from the windowing procedure."
   ]
  },
  {
   "cell_type": "markdown",
   "metadata": {},
   "source": [
    "**How many degrees of freedom do we have?**\n",
    "\n",
    "Once you've created overlapping, windowed segments, then you'll need to\n",
    "figure out how many independent segments you really have.  Clearly\n",
    "at a minimum you should have the equivalent of the number of segments that\n",
    "you would have if you did no overlapping.  If you have $N$ data points\n",
    "divided into segments that are 2$M$ wide, then the minimum number of segments\n",
    "is $N/(2M)$.  But with windowing, the end points of each segment are used\n",
    "less than the middle, making the overlapping segments more independent, so perhaps we have more degrees of freedom.  Since the segments overlap by 50\\%,\n",
    "we probably can't treat them as being independent. Bendat and Piersol usefully say that overlapping by 50\\% will recover about 90\\% of the stability lost due to tapering.\n",
    "How much does the use of overlapping segments modulate the degrees of freedom?\n",
    "\n",
    " If you look this up in the 2nd\n",
    "edition of Emery and Thomson, you find a nice table (their Table 5.6.4),\n",
    "ostensably lifted from Priestley. Priestley's results are nicely\n",
    "discussed by Koopmans (*The Spectral Analysis of Time Series*,\n",
    "Academic Press, 1974).  Emery and Thomson describe the table as representing\n",
    "the equivalent degrees of freedom for windowed \"block averaged\" spectra.\n",
    "\n",
    "A little further exploration of the literature shows that the values in Emery and Thomson's\n",
    "table are incorrectly labeled and actually represent degrees of freedom\n",
    "for spectra determined by filtering or averaging adjacent frequencies\n",
    "from an initial spectral estimate.\n",
    "If you filter in frequency, you can increase your degrees of freedom\n",
    "just the way you increase degrees of freedom by using multiple segments.\n",
    "And you can refine your filtering to reduce spectral ringing effects by\n",
    "using a carefully constructed filter.  While people use the same types\n",
    "of filters for time domain windowing/tapering and for frequency domain\n",
    "filtering, the effect is not identical.  (If we wanted an identical effect,\n",
    "we'd need to use the Fourier transform of the time domain window to filter\n",
    "in the frequency domain.  You could do that, but it's not what we usually\n",
    "envision when we talk about windowing or tapering, and it's not what Emery and\n",
    "Thomson seem to describe.)  What this means is that the tables of \"equivalent degrees of freedom\" for the frequency domain don't actually work for windowed time domain data.\n",
    "\n",
    "So at this point we have three options:\n",
    "\n",
    "1. Abandon windowing and filter in the frequency domain, so that we can take advantage of the correct estimates of degrees of freedom.  This is a possibility, and we'll get to it, but it seems like we're unnecessarily giving up on the windowing approach that we've been exploring.\n",
    "\n",
    "2. Use a brute strength approach - Monte Carlo simulation - to figure out how many degrees of freedom we have.\n",
    "\n",
    "3. Find an analytic solution to decide how many degrees of freedom we have."
   ]
  },
  {
   "cell_type": "markdown",
   "metadata": {},
   "source": [
    "**Monte Carlo simulation:  How to avoid the traps imposed by standard statistical\n",
    "assumptions (and how to fake your way as a statistician through computational inefficiency\n",
    "rather than clever mathematics)**\n",
    "\n",
    "Most of the time, we estimate spectral error bars using basic statistical assumptions --- that\n",
    "data are normally distributed, that we have enough samples for the central limit theorem to\n",
    "apply, that statistics are stationary.  These assumptions make our statistical models\n",
    "tractable --- we end up with equations we can manipulate, allowing us (or clever statisticians\n",
    "100 years ago) to derive simple equations that give us rules for how systems should behave.\n",
    "But what happens when those assumptions break down?  Or what happens when we have little doubts\n",
    "about the validity of the statistical model.  We can always resort to a Monte Carlo process.\n",
    "In Monte Carlo methods, we throw theory on its head and use an empirical approach to generate\n",
    "many realizations of our data set, with noise appropriate to our problem.\n",
    "\n",
    "As an example, consider the problem of determining the standard error of the mean.\n",
    "When we discussed it in class, we did a quick derivation to show that the standard\n",
    "error of the mean is $\\sigma/\\sqrt{N}$, where $\\sigma$ is the standard deviation and\n",
    "$N$ is the effective degrees of freedom.  But what if I didn't trust this realization?\n",
    "I could generate a large number of realizations of my data with noise typical of the real\n",
    "data, compute means for each realization, and look at the statistics of those values.\n",
    "\n",
    "So let's put this to work.  Suppose I'm computing the mean of $N=500$ data points.  With one\n",
    "sample, I can compute the mean $\\mu$ and standard deviation $\\sigma$, and standard error\n",
    "$\\sigma/\\sqrt{500}$.  But I might wonder\n",
    "if $\\mu$ is really representative.  So I can generate an ensemble of fake data, perhaps 100\n",
    "data sets based on adding Gaussian white noise (or non-Gaussian white noise) to the real data.\n",
    "Each of these data sets will have a mean $\\mu_i$ and a standard deviation $\\sigma_i$.  And I can\n",
    "look at the standard deviation of all of the $\\mu_i$ values.  I can also look at the pdf of\n",
    "my $\\mu_i$'s and other higher order statistics.\n",
    "For example:"
   ]
  },
  {
   "cell_type": "markdown",
   "metadata": {},
   "source": [
    "For example:\n",
    "\n",
    "```\n",
    "A = np.random.randn(500,100)\n",
    "mu = A.mean(axis=0)\n",
    "sigma_A = A.std(axis=0, ddof=1)\n",
    "std_A = sigma_A/np.sqrt(500)\n",
    "\n",
    "print(mu.std(), std_A.mean()) #compare standard deviation of means \n",
    "                              # vs standard error of the mean\n",
    "```\n",
    "\n",
    "Now we could expand on our example and ask, what if our noise were non-Gaussian or gappy\n",
    "or had other problems, and we could adjust our Monte Carlo process appropriately.  And importantly, we can use this approach to test windowing strategies, by\n",
    "generating fake data with a white spectrum (or a known red spectrum), windowing,\n",
    "segmenting, and evaluating the statistics of the solution --- the standard deviation in log space --- relative to the formal error bar."
   ]
  },
  {
   "cell_type": "markdown",
   "metadata": {},
   "source": [
    "Now we could expand on our example and ask, what if our noise were non-Gaussian or gappy\n",
    "or had other problems, and we could adjust our Monte Carlo process appropriately.  And importantly, we can use this approach to test windowing strategies, by\n",
    "generating fake data with a white spectrum (or a known red spectrum), windowing,\n",
    "segmenting, and evaluating the statistics of the solution---the standard deviation in log space---relative to the formal error bar.\n",
    "\n",
    "**A more analytic approach to degrees of freedom for overlapping segments**\n",
    "\n",
    "If the Monte Carlo approach seems too ad hoc, we can try something else.\n",
    " Percival and Walden provide a full derivation of the actual degrees of freedom for overlapping segments. They define the following terms:\n",
    "\n",
    "$$\\begin{eqnarray*}\n",
    "N & = & \\mbox{total length of record} \\\\\n",
    "N_B & = & \\mbox{number of blocks} \\\\\n",
    "N_S & = & \\mbox{segment length or block size} \\\\\n",
    "n & = & \\mbox{shift factor or number of points of overlap between segments} \\\\\n",
    "h & = & \\mbox{window, normalized so that $h^2$ sums to 1}.\n",
    "\\end{eqnarray*}$$\n",
    "\n",
    "They point out that the covariance between adjacent segments determines\n",
    "the adjustment to the degrees of freedom, and this depends on $h$.\n",
    "\n",
    "In this framework, the variance of the spectral estimate is:\n",
    "\n",
    "\n",
    "$$\\begin{equation}\n",
    "\\mbox{var}\\left\\{\\hat{S}^{(WOSA)}(f)\\right\\} =\n",
    "\\frac{1}{N_B} \\sum_{j=0}^{N_B-1} \\left(\\mbox{var}\\left\\{\\hat{S}_{jn+1}(f)\\right\\} +\n",
    "\\frac{2}{N_B} \\sum_{j<k} \\mbox{cov}\\left\\{\\hat{S}_{jn+1}(f),\\hat{S}_{kn+1}(f)\\right\\}\\right),\n",
    "\\end{equation}$$\n",
    "\n",
    "\n",
    "where $j$ and $k$ are indices for separate but overlapping segments.\n",
    "The variance of the $j$th spectrum should converge to the canonical\n",
    "spectrum:"
   ]
  },
  {
   "cell_type": "markdown",
   "metadata": {},
   "source": [
    "The variance of the $j$th spectrum should converge to the canonical\n",
    "spectrum:\n",
    "\n",
    "$$\\begin{equation}\n",
    "\\mbox{\\rm var}\\left\\{\\hat{S}_{jn+1}(f)\\right\\} \\approx S^2(f).\n",
    "\\end{equation}$$\n",
    "\n",
    "The covariance depends on the overlap of the tapers or windows:\n",
    "\n",
    "$$\\begin{equation}\n",
    "\\mbox{\\rm cov}\\left\\{\\hat{S}_{jn+1}(f),\\hat{S}_{kn+1}(f)\\right\\} \\approx S^2(f)\n",
    "\\left|\\sum_{t=1}^{N_S} h_t h_{t+|k-j|n}\\right|^2,\n",
    "\\end{equation}$$\n",
    "\n",
    "with  $h_t$ defined to be zero when $t$ is out of range (i.e. $t>N_S$).\n",
    "This means that:\n",
    "\n",
    "$$\\begin{eqnarray}\n",
    "\\mbox{\\rm var}\\left\\{\\hat{S}^{(WOSA)}(f)\\right\\} & \\approx  &\n",
    "S^2(f)\\left(1+\\frac{2}{N_B} \\sum_{j<k}\n",
    "\\left|\\sum_{t=1}^{N_S} h_t h_{t+|k-j|n}\\right|^2\\right)\\\\\n",
    "& = &\n",
    "S^2(f)\\left(1+ 2\\sum_{m=1}^{N_B-1} \\left(1-\\frac{m}{N_B}\\right)\n",
    "\\left|\\sum_{t=1}^{N_S} h_t h_{t+mn}\\right|^2\\right).\n",
    "\\end{eqnarray}\n",
    "$$\n",
    "\n",
    "Thus for a full record with arbitrary overlap:\n",
    "\n",
    "$$\\begin{equation}\n",
    "\\nu \\approx \\frac{2N_B}{1 + 2\\sum_{m=1}^{N_b-1} \\left(1-\\frac{m}{N_B}\\right)\n",
    "\\left|\\sum_{t=1}^{N_S} h_t h_{t+mn}\\right|^2}.\n",
    "\\end{equation}$$\n",
    "\n",
    "This formulation allows for arbitrary levels of overlap, so you could\n",
    "imagine starting a new segment every data point and having to contend\n",
    "with with lots of complicated covariances between adjacent segments."
   ]
  },
  {
   "cell_type": "markdown",
   "metadata": {},
   "source": [
    "For practical purposes, we typically work with 50\\% overlap, so $n=N_S/2$.\n",
    "In this case, Percival and Walden show that the equation for the\n",
    "effective degrees of freedom simplifies to\n",
    "\n",
    "$$\\begin{equation}\n",
    "\\nu \\approx \\frac{2N_B}{1 + 2\\left(1-\\frac{1}{N_B}\\right)\n",
    "\\left|\\sum_{t=1}^{N_S/2} h_t h_{t+N_S/2}\\right|^2}.\n",
    "\\end{equation}$$\n",
    "\n",
    "In the limit of large $N_B$ and many samples, it's relatively straightforward to find\n",
    "an analytic solution:\n",
    "\n",
    "$$\\begin{equation}\n",
    "\\nu \\approx \\frac{2N_B}{1 + 2 \\left|\\int_0^{L/2} h(t) h(t+L/2)\\, dt\\right|^2}.\n",
    "\\end{equation}$$\n",
    "\n",
    "subject to the requirement that the window normalization is:\n",
    "\n",
    "$$\\begin{equation}\n",
    "\\int_0^{L} h(t)^2 \\, dt = 1.\n",
    "\\end{equation}$$\n",
    "\n",
    "Thus for a boxcar filter, $h(t) = 1/\\sqrt{L}$, and\n",
    "\n",
    "$$\\begin{equation}\n",
    "\\int_0^{L/2} h(t)h(t+L/2)\\, dt = \\int_0^{L/2} \\frac{1}{L}\\, dt =\n",
    "\\left. \\frac{t}{L}\\right|_0^{L/2} = \\frac{1}{2}.\n",
    "\\end{equation}$$\n",
    "\n",
    "Thus\n",
    "\n",
    "$$\\begin{equation}\n",
    "\\nu \\approx \\frac{2N_B}{1 + 2 \\left| \\frac{1}{2} \\right|^2} = \\frac{2N_B}{1+\\frac{1}{2}}\n",
    "= \\frac{4N_B}{3}.\n",
    "\\end{equation}$$\n",
    "\n",
    "Either analytically, or by plugging in normalized discrete window values $h_t$,\n",
    "we can compute the adjustments to our effective degrees of freedom shown in\n",
    "Table 1.  You'll see that these values provide a fairly effective\n",
    "match to the values that you obtained from Monte Carlo simulation."
   ]
  },
  {
   "cell_type": "markdown",
   "metadata": {},
   "source": [
    "| Window type | Equivalent degrees of freedom ($\\nu$) |\n",
    "| :--------------: |:------------------------------:|\n",
    "| Boxcar  | 4/3 |\n",
    "|Triangle | 16/9 |\n",
    "|Hanning | 36/19 $\\approx$ 1.90 |\n",
    "|Hamming | $\\sim$1.80 |\n",
    "\n",
    "*Effective number of degrees of freedom relative to the total number\n",
    "of segments, using 50\\% overlap.  (With no overlap, the equivalent degrees of\n",
    "freedom would be double the number of segments.)*\n",
    "\n",
    "So what of the other texts?  The 2014 edition of Thomson and\n",
    "Emery is as misleading as the earlier editions.  Von Storch and Zwiers,\n",
    "who are usually fairly lucid on data analysis, strongly favor\n",
    "filtering in the frequency domain so don't consider the impact of\n",
    "windowing or tapering in the time domain.\n",
    "Priestley also focuses largely on spectra computed from the autocovariance\n",
    "and spectra computed by filtering the periodogram.\n",
    "Their published tables are intended to provide guidance on the \"lag window\"\n",
    "(e.g. $\\lambda(t)$)\n",
    "for spectra computed from the autocovariance, and the \"spectral window\",\n",
    "$W(f)$, which is Fourier transform of the lag window.   When $\\lambda(t)$ and\n",
    "$W(f)$ are used as a Fourier transform pair, they should  have equivalent\n",
    "impacts on the degrees of freedom."
   ]
  },
  {
   "cell_type": "markdown",
   "metadata": {},
   "source": [
    "Finally, Percival and Walden note that we can also consider overlaps other\n",
    "than 50\\%, by adjusting $m$ in their original equation:\n",
    "\n",
    "$$\\begin{equation}\n",
    "\\nu \\approx \\frac{2N_B}{1 + 2\\sum_{m=1}^{N_b-1} \\left(1-\\frac{m}{N_B}\\right)\n",
    "\\left|\\sum_{t=1}^{N_S-mn} h_t h_{t+mn}\\right|^2}.\n",
    "\\end{equation}$$\n",
    "\n",
    "Their Figure 293 shows degrees of freedom as a function of overlap for\n",
    "the Hanning window.  We can code this in Python to consider other windows\n",
    "as well, as illustrated in Figure 1:"
   ]
  },
  {
   "cell_type": "code",
   "execution_count": 47,
   "metadata": {},
   "outputs": [
    {
     "name": "stderr",
     "output_type": "stream",
     "text": [
      "/Users/bia/anaconda3/envs/SIO221A/lib/python3.7/site-packages/ipykernel_launcher.py:21: VisibleDeprecationWarning: Creating an ndarray from ragged nested sequences (which is a list-or-tuple of lists-or-tuples-or ndarrays with different lengths or shapes) is deprecated. If you meant to do this, you must specify 'dtype=object' when creating the ndarray\n"
     ]
    }
   ],
   "source": [
    "import numpy as np\n",
    "from numpy import cos, pi\n",
    "import matplotlib.pyplot as plt\n",
    "\n",
    "Ns = 512\n",
    "n = 256\n",
    "N = Ns*100\n",
    "Nb_theory = N/Ns\n",
    "\n",
    "h = np.ones([Ns,1])/np.sqrt(Ns)\n",
    "nu_boxcar = []\n",
    "for n in range(1, Ns):\n",
    "    Nb = round((N-Ns)/n+1)\n",
    "    sumh = []\n",
    "    for m in range(1, Nb):\n",
    "        if Ns-m*n >= 1:\n",
    "            sumh.append((1-m/Nb)*abs(sum(h[1:Ns-m*n]*h[1+m*n:Ns]))**2)\n",
    "\n",
    "    denom = 1+2*sum(sumh)\n",
    "    nu_boxcar.append(2*Nb/denom)\n",
    "nu_boxcar = np.array(nu_boxcar)"
   ]
  },
  {
   "cell_type": "code",
   "execution_count": 48,
   "metadata": {},
   "outputs": [],
   "source": [
    "h = np.sqrt(2/3/Ns)*(1 - cos(2*pi*np.arange(Ns)/Ns))\n",
    "nu_hanning = []\n",
    "for n in range(1, Ns):\n",
    "    Nb = round((N-Ns)/n+1)\n",
    "    sumh = []\n",
    "    for m in range(1, Nb):\n",
    "        if Ns-m*n >= 1:\n",
    "            sumh.append((1-m/Nb)*abs(sum(h[1:Ns-m*n]*h[1+m*n:Ns]))**2)\n",
    "\n",
    "    denom = 1+2*sum(sumh)\n",
    "    nu_hanning.append(2*Nb/denom)\n",
    "nu_hanning = np.array(nu_hanning)"
   ]
  },
  {
   "cell_type": "code",
   "execution_count": 62,
   "metadata": {},
   "outputs": [
    {
     "data": {
      "text/plain": [
       "<matplotlib.legend.Legend at 0x7ff8731c2690>"
      ]
     },
     "execution_count": 62,
     "metadata": {},
     "output_type": "execute_result"
    },
    {
     "data": {
      "image/png": "[encoded data removed]",
      "text/plain": [
       "<Figure size 576x432 with 1 Axes>"
      ]
     },
     "metadata": {
      "needs_background": "light"
     },
     "output_type": "display_data"
    }
   ],
   "source": [
    "plt.figure(figsize=(8,6))\n",
    "plt.plot(1-np.arange(0,Ns-1,2)/Ns, nu_boxcar[::2]/Nb_theory,\n",
    "         color='steelblue', label='Boxcar')\n",
    "plt.plot(1-np.arange(0,Ns-1,2)/Ns, nu_hanning[::2]/Nb_theory,\n",
    "         color='tomato', label='Hanning')\n",
    "plt.xlabel('Fractional overlap between segments', fontsize=14)\n",
    "plt.legend(fontsize=14)"
   ]
  },
  {
   "cell_type": "markdown",
   "metadata": {},
   "source": [
    "Figure 1: Ratio of degrees of freedom ν relative to nominal number of segments available if no overlapping is used for Hanning window and boxcar window."
   ]
  },
  {
   "cell_type": "markdown",
   "metadata": {},
   "source": [
    "**Filtering in the frequency domain**\n",
    "\n",
    "Last time, when we talked about windowing, we noted that windowing in the time domain is\n",
    "equivalent to convolution in the frequency\n",
    "domain (and filtering in the time domain is equivalent to multiplication in the frequency\n",
    "domain.)  This could lead you to an interesting conclusion.  What if you skipped all the\n",
    "windowing and just did convolutions (i.e. filtering) in the frequency domain?  In the\n",
    "limit in which you choose the same filter, these options should be the same.\n",
    "\n",
    "This approach was originally developed by Daniell and is nicely discussed by von Storch and\n",
    "Zwiers (see their section 12.3.11).  Daniell's original idea was to run a moving average\n",
    "over the Fourier transform of the full record.  In this case the confidence intervals are\n",
    "determined by:\n",
    "\n",
    "$$\\begin{equation}\n",
    "P\\left(\\chi_{\\nu,1-\\alpha/2}^2 < \\nu \\frac{\\hat E(f)}{E(f)} <\n",
    "\\chi_{\\nu,\\alpha/2}^2\\right)\n",
    "\\end{equation}$$\n",
    "\n",
    "where $\\nu$ in this case is 2 $\\times$ the number of frequencies averaged together.\n",
    "\n",
    "The advantages of this approach are that it provides an unbiased estimate of the true spectrum.\n",
    "The width of our averaging forces us to tradeoff bias (minimized if we do less averaging)\n",
    "vs variance (minimized with more averaging).  One virtue of averaging in the frequency\n",
    "domain is that we  can apply different levels of averaging (with different error bars)\n",
    "depending on the frequency."
   ]
  },
  {
   "cell_type": "code",
   "execution_count": null,
   "metadata": {},
   "outputs": [],
   "source": []
  }
 ],
 "metadata": {
  "kernelspec": {
   "display_name": "Python 3",
   "language": "python",
   "name": "python3"
  },
  "language_info": {
   "codemirror_mode": {
    "name": "ipython",
    "version": 3
   },
   "file_extension": ".py",
   "mimetype": "text/x-python",
   "name": "python",
   "nbconvert_exporter": "python",
   "pygments_lexer": "ipython3",
   "version": "3.7.9"
  }
 },
 "nbformat": 4,
 "nbformat_minor": 4
}

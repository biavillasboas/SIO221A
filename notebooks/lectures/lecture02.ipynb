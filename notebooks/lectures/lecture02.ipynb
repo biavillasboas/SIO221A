{
 "cells": [
  {
   "cell_type": "markdown",
   "metadata": {},
   "source": [
    "# Analysis of Physical Oceanographic Data - SIO 221A\n",
    "### Python version of [Sarah Gille's](http://pordlabs.ucsd.edu/sgille/sioc221a/index.html) notes by:\n",
    "#### Bia Villas Bôas (avillasboas@ucsd.edu) & Gui Castelão (castelao@ucsd.edu)"
   ]
  },
  {
   "cell_type": "markdown",
   "metadata": {},
   "source": [
    "## Lecture 2:  Probing the power of probability density functions\n",
    "\n",
    "### **Recap**\n",
    "\n",
    "Last time we talked about some basic statistical measures.  If we\n",
    "have a collection of data (*random variables*), we can compute\n",
    "their *mean*, *variance*, *standard deviation*, *median*,\n",
    "and we can examine the *probability density function* of\n",
    "the data.  We also made a distinction between the *expectation value*\n",
    "(the value we'd expect if we had an infinite number of perfectly sampled\n",
    "observations) and the observed mean.  Similarly, we can distinguish\n",
    "between an empirical probability density function (what we actually\n",
    "observe) and the idea probability density function that we observe.\n",
    "\n",
    "### **An example**\n",
    "\n",
    "Melissa Carter, the Shore Stations Program manager, is in charge of the\n",
    "pier data.  Next week she'll tell us in detail about the data collection\n",
    "system.  The system includes automated sensors that suffer from\n",
    "biofouling and manual time series that are under sampled.  Melissa\n",
    "asks, \"What new information is gained with the continuous 4min time series, and is there a need to continue to collect the manual once per day measurements?\"\n",
    "\n",
    "We could start to answer these questions by using the tools we reviewed\n",
    "in the first lecture.  Are the means the same?  Are the variances the same?\n",
    "But that will give us an incomplete picture for several reasons:\n",
    "\n",
    "1. As we noted last time, data sets can perversely have the same mean and\n",
    "standard deviation, but have pdfs that look nothing alike.\n",
    "2. When we deal with real data, nothing is ever identical, so we'll need\n",
    "to know how big a difference is acceptable.\n",
    "\n",
    "The pdf is going to help us work through these issues.\n",
    "What can we do with a pdf?  Let's cover three topics:\n",
    "\n",
    "1. How do we define a pdf?\n",
    "2. How do we use the pdf to think about confidence limits?  Are two estimates different?\n",
    "3. How can we tell if two pdfs are different?\n",
    "\n",
    "The formal definition of a probability density function is based on\n",
    "the first derivative of the probability:\n",
    "\n",
    "$$\\begin{equation}\n",
    "p(x) = \\lim_{\\Delta x \\to 0}\\left[\\frac{\\textrm{Prob}[x < x(k) \\le x+\\Delta x]}{\\Delta x}\\right] \\hspace{3cm} (1)\n",
    "\\end{equation}$$\n",
    "\n",
    "where $x(k)$ is a random variable.  This definition means that the integral of\n",
    "the probability density function gives us the probability, as we noted last\n",
    "time:\n",
    "\n",
    "$$\\begin{equation}\n",
    "\\int_{-\\infty}^{\\infty} p(x)\\, dx = 1\\hspace{3cm} (2)\n",
    "\\end{equation}$$\n",
    "\n",
    "One of the clever aspects of the pdf is that we can use it to determine\n",
    "an expected value:\n",
    "\n",
    "$$\\begin{equation}\n",
    "E(x(k)) = \\int_{-\\infty}^\\infty xp(x)\\, dx = \\mu_x.\\hspace{3cm} (3)\n",
    "\\end{equation}$$\n",
    "\n",
    "Why does this work?  In essence, I reorder all the values in my data set and\n",
    "ask what's the probability of finding $x$ in bin 1, what's the probability\n",
    "of finding $x$ in bin 2, etc?  Or in other words, what fraction of my total\n",
    "record is in bin 1, what fraction is in bin 2, etc?  And summing this way,\n",
    "I'll find the mean.\n",
    "\n",
    "We can also use this for $x^2$ or for $(x-\\mu_x)^2$.\n",
    "\n",
    "$$\\begin{equation}\n",
    "E((x(k)-\\mu_k)^2) = \\int_{-\\infty}^\\infty (x-\\mu_x)^2 p(x)\\, dx = \\sigma_x^2. \\hspace{3cm} (4)\n",
    "\\end{equation}$$\n",
    "\n",
    "\n",
    "Let's start by making an empirical pdf.  Last time we talked about\n",
    "temperature on the pier, so now, let's take a look at pressure.  We could\n",
    "plot a histogram of the data using the hist function, but that wouldn't\n",
    "give us a pdf.  For the pdf we need to be properly normalized.  We can\n",
    "still do this using functions from the `matplotlib` and `numpy` libraries:"
   ]
  },
  {
   "cell_type": "code",
   "execution_count": 1,
   "metadata": {},
   "outputs": [],
   "source": [
    "%matplotlib inline\n",
    "\n",
    "import numpy as np\n",
    "import xarray as xr\n",
    "import matplotlib.pyplot as plt"
   ]
  },
  {
   "cell_type": "code",
   "execution_count": 2,
   "metadata": {},
   "outputs": [],
   "source": [
    "sccoos_thredds = 'http://sccoos.org/thredds/dodsC/autoss/scripps_pier-2020.nc'\n",
    "ds = xr.open_dataset(sccoos_thredds)"
   ]
  },
  {
   "cell_type": "code",
   "execution_count": 3,
   "metadata": {},
   "outputs": [
    {
     "data": {
      "text/plain": [
       "KeysView(<xarray.Dataset>\n",
       "Dimensions:                     (time: 130442)\n",
       "Coordinates:\n",
       "  * time                        (time) object 2020-01-01 00:00:32 ... 2020-12...\n",
       "    lat                         float32 ...\n",
       "    lon                         float32 ...\n",
       "    depth                       float32 ...\n",
       "Data variables: (12/27)\n",
       "    temperature                 (time) float32 ...\n",
       "    conductivity                (time) float32 ...\n",
       "    pressure                    (time) float32 ...\n",
       "    salinity                    (time) float32 ...\n",
       "    chlorophyll_raw             (time) float32 ...\n",
       "    chlorophyll                 (time) float32 ...\n",
       "    ...                          ...\n",
       "    aux4                        (time) float32 ...\n",
       "    instrument1                 |S64 ...\n",
       "    instrument2                 |S64 ...\n",
       "    platform1                   |S64 ...\n",
       "    station                     |S64 ...\n",
       "    crs                         float64 ...\n",
       "Attributes: (12/68)\n",
       "    _NCProperties:                   version=1|netcdflibversion=4.4.1|hdf5lib...\n",
       "    comment:                         The Scripps Pier automated shore station...\n",
       "    platform_vocabulary:             GCMD Earth Science Keywords. Version 8.5\n",
       "    time_coverage_resolution:        PT1S\n",
       "    geospatial_vertical_max:         5\n",
       "    geospatial_bounds_crs:           EPSG:4326\n",
       "    ...                              ...\n",
       "    date_issued:                     2021-01-01T00:00:22Z\n",
       "    time_coverage_start:             2020-01-01T00:00:32Z\n",
       "    date_metadata_modified:          2021-01-01T00:00:22Z\n",
       "    DODS.strlen:                     25\n",
       "    DODS.dimName:                    stationNameLength\n",
       "    DODS_EXTRA.Unlimited_Dimension:  time)"
      ]
     },
     "execution_count": 3,
     "metadata": {},
     "output_type": "execute_result"
    }
   ],
   "source": [
    "# Let's check what variables this dataset has:\n",
    "ds.keys()"
   ]
  },
  {
   "cell_type": "markdown",
   "metadata": {},
   "source": [
    "This time we're interested in pressure, so let's check the characteristics of this variables:"
   ]
  },
  {
   "cell_type": "code",
   "execution_count": 4,
   "metadata": {},
   "outputs": [
    {
     "data": {
      "text/plain": [
       "[<matplotlib.lines.Line2D at 0x7f9c38bafa90>]"
      ]
     },
     "execution_count": 4,
     "metadata": {},
     "output_type": "execute_result"
    },
    {
     "data": {
      "image/png": "[encoded data removed]",
      "text/plain": [
       "<Figure size 432x288 with 1 Axes>"
      ]
     },
     "metadata": {
      "needs_background": "light"
     },
     "output_type": "display_data"
    }
   ],
   "source": [
    "ds['pressure'].plot()"
   ]
  },
  {
   "cell_type": "code",
   "execution_count": 5,
   "metadata": {},
   "outputs": [
    {
     "name": "stdout",
     "output_type": "stream",
     "text": [
      "<xarray.DataArray 'pressure' (time: 130442)>\n",
      "array([3.357, 3.258, 3.324, ..., 2.42 , 2.439, 2.5  ], dtype=float32)\n",
      "Coordinates:\n",
      "  * time     (time) object 2020-01-01 00:00:32 ... 2020-12-31 23:57:35\n",
      "    lat      float32 ...\n",
      "    lon      float32 ...\n",
      "    depth    float32 ...\n",
      "Attributes: (12/16)\n",
      "    platform:       platform1\n",
      "    long_name:      sea water pressure\n",
      "    standard_name:  sea_water_pressure\n",
      "    instrument:     instrument1\n",
      "    units:          dbar\n",
      "    ncei_name:      PRESSURE - WATER\n",
      "    ...             ...\n",
      "    comment:        The following QC tests were done on pressure: Range Check...\n",
      "    valid_min:      0.0\n",
      "    valid_max:      20.0\n",
      "    data_max:       5.228\n",
      "    data_min:       1.781\n",
      "    _ChunkSizes:    1024\n"
     ]
    }
   ],
   "source": [
    "pressure = ds['pressure'].values\n",
    "print(ds['pressure'])"
   ]
  },
  {
   "cell_type": "markdown",
   "metadata": {},
   "source": [
    "We could plot a histogram using the `matplotlib` function `hist` which allows us to specify the argument `density`. Let's see how to get both histogram and pdf of the pressure using `matplotlib`:"
   ]
  },
  {
   "cell_type": "code",
   "execution_count": 6,
   "metadata": {},
   "outputs": [
    {
     "data": {
      "text/plain": [
       "Text(0.5, 1.0, 'PDF')"
      ]
     },
     "execution_count": 6,
     "metadata": {},
     "output_type": "execute_result"
    },
    {
     "data": {
      "image/png": "[encoded data removed]",
      "text/plain": [
       "<Figure size 1152x576 with 2 Axes>"
      ]
     },
     "metadata": {
      "needs_background": "light"
     },
     "output_type": "display_data"
    }
   ],
   "source": [
    "fig, [ax1, ax2] = plt.subplots(1, 2, figsize = (16, 8))\n",
    "hist = ax1.hist(pressure, bins=30, density=False)\n",
    "ax1.set_ylabel('Counts', fontsize=14)\n",
    "ax1.set_xlabel('Pressure [%s]'%ds['pressure'].units, fontsize=14) # using the metadata\n",
    "ax1.set_title('Histogram', fontsize=18)\n",
    "# Now, with density=True\n",
    "pdf  = ax2.hist(pressure, bins=30, density=True)\n",
    "ax2.set_ylabel('Probability density', fontsize=14)\n",
    "ax2.set_xlabel('Pressure [%s]'%ds['pressure'].units, fontsize=14)\n",
    "ax2.set_title('PDF', fontsize=18)"
   ]
  },
  {
   "cell_type": "markdown",
   "metadata": {},
   "source": [
    "Now, lets check if `density=True` is working properly. The function `hist` returns a tuple, where the first two elements are counts/pdf and bins."
   ]
  },
  {
   "cell_type": "code",
   "execution_count": 7,
   "metadata": {},
   "outputs": [
    {
     "name": "stdout",
     "output_type": "stream",
     "text": [
      "0.9999999162639723 is close enough to 1\n"
     ]
    }
   ],
   "source": [
    "values, bins, _ = pdf\n",
    "dbin = bins[1] - bins[0]\n",
    "print(values.sum()*dbin, 'is close enough to 1')"
   ]
  },
  {
   "cell_type": "markdown",
   "metadata": {},
   "source": [
    "You might want to have control over the bin width, so instead of passing the number of bins, you can pass a list representing the bin edges:"
   ]
  },
  {
   "cell_type": "code",
   "execution_count": 8,
   "metadata": {},
   "outputs": [],
   "source": [
    "dbin1 = 0.1\n",
    "bins1 = np.arange(ds['pressure'].min(), ds['pressure'].max(), dbin1).tolist()\n",
    "dbin2 = 0.01\n",
    "bins2 = np.arange(ds['pressure'].min(), ds['pressure'].max(), dbin2).tolist()"
   ]
  },
  {
   "cell_type": "code",
   "execution_count": 9,
   "metadata": {},
   "outputs": [
    {
     "data": {
      "text/plain": [
       "Text(0.5, 1.0, 'PDF')"
      ]
     },
     "execution_count": 9,
     "metadata": {},
     "output_type": "execute_result"
    },
    {
     "data": {
      "image/png": "[encoded data removed]",
      "text/plain": [
       "<Figure size 1152x576 with 2 Axes>"
      ]
     },
     "metadata": {
      "needs_background": "light"
     },
     "output_type": "display_data"
    }
   ],
   "source": [
    "fig, [ax1, ax2] = plt.subplots(1, 2, figsize = (16, 8))\n",
    "pdf1 = ax1.hist(pressure, bins=bins1, density=True)\n",
    "ax1.set_ylabel('Probability density', fontsize=14)\n",
    "ax1.set_xlabel('Pressure [%s]'%ds['pressure'].units, fontsize=14) # using the metadata\n",
    "ax1.set_title('PDF', fontsize=18)\n",
    "# Now, with narrower bins\n",
    "pdf2  = ax2.hist(pressure, bins=bins2, density=True)\n",
    "ax2.set_ylabel('Probability density', fontsize=14)\n",
    "ax2.set_xlabel('Pressure [%s]'%ds['pressure'].units, fontsize=14)\n",
    "ax2.set_title('PDF', fontsize=18)"
   ]
  },
  {
   "cell_type": "markdown",
   "metadata": {},
   "source": [
    "My predecessor, Rob Pinkel, always told students that they couldn't use the ``hist`` function for this and should do a loop.  How do we do that?"
   ]
  },
  {
   "cell_type": "code",
   "execution_count": 10,
   "metadata": {},
   "outputs": [
    {
     "data": {
      "text/plain": [
       "Text(0, 0.5, 'counts')"
      ]
     },
     "execution_count": 10,
     "metadata": {},
     "output_type": "execute_result"
    },
    {
     "data": {
      "image/png": "[encoded data removed]",
      "text/plain": [
       "<Figure size 576x576 with 1 Axes>"
      ]
     },
     "metadata": {
      "needs_background": "light"
     },
     "output_type": "display_data"
    }
   ],
   "source": [
    "dbin = 0.1\n",
    "bin_min = 2\n",
    "bin_max = 5\n",
    "bins = np.arange(bin_min, bin_max, dbin)\n",
    "count = []\n",
    "for i in range(len(bins)):\n",
    "    ind = (pressure>bins[i] - dbin/2) & (pressure<=bins[i]+dbin/2)\n",
    "    count.append(ind.sum())\n",
    "count = np.array(count)\n",
    "\n",
    "plt.figure(figsize = (8,8))\n",
    "plt.plot(bins, count)\n",
    "plt.xlabel('Pressure [dbar]', fontsize=14)\n",
    "plt.ylabel('counts',  fontsize=14)"
   ]
  },
  {
   "cell_type": "markdown",
   "metadata": {},
   "source": [
    "Should we write a function to do that?"
   ]
  },
  {
   "cell_type": "code",
   "execution_count": 11,
   "metadata": {},
   "outputs": [],
   "source": [
    "def compute_histogram(variable, bin_max, bin_min, dbin, pdf=False):\n",
    "    \n",
    "    \"\"\" Computes 1D histogram or probability density for a given variable.\n",
    "        \n",
    "    Keyword arguments:\n",
    "    variable -- 1D array.\n",
    "    bin_max -- maximum value for bins\n",
    "    bin_min -- minimum value for bins\n",
    "    dbin -- bin size\n",
    "    pdf -- (default False)\n",
    "    \n",
    "    Returns:\n",
    "    bins -- histogram bins\n",
    "    counts -- either counts or probability density\n",
    "        \n",
    "    \"\"\"\n",
    "    bins = np.arange(bin_min, bin_max, dbin)\n",
    "    count = []\n",
    "    for i in range(len(bins)):\n",
    "        ind = (variable>bins[i] - dbin/2) & (variable<=bins[i]+dbin/2)\n",
    "        count.append(ind.sum())\n",
    "    count = np.array(count)\n",
    "    if pdf:\n",
    "        norm_hist = count/count.sum()/dbin\n",
    "        assert np.allclose(norm_hist.sum()*dbin, 1.0), \"PDF doesn't sum to 1\"\n",
    "    \n",
    "        return bins, norm_hist\n",
    "    else:\n",
    "        return bins, count    "
   ]
  },
  {
   "cell_type": "markdown",
   "metadata": {},
   "source": [
    "We like to think that geophysical variables are normally distributed,\n",
    "meaning that the distribution is:\n",
    "\n",
    "$$\\begin{equation}\n",
    "p(x) = \\frac{1}{\\sigma \\sqrt{2\\pi}} \\exp\\left(-\\frac{(x-\\mu)^2}{2\\sigma^2}\\right)\\hspace{3cm} (5)\n",
    "\\end{equation}$$\n",
    "\n",
    "where $\\mu$ is the mean and $\\sigma$ is the standard deviation.\n",
    "So we can add a Gaussian to our plot:"
   ]
  },
  {
   "cell_type": "code",
   "execution_count": 12,
   "metadata": {},
   "outputs": [
    {
     "data": {
      "text/plain": [
       "Text(0, 0.5, 'Probability density')"
      ]
     },
     "execution_count": 12,
     "metadata": {},
     "output_type": "execute_result"
    },
    {
     "data": {
      "image/png": "[encoded data removed]",
      "text/plain": [
       "<Figure size 576x576 with 1 Axes>"
      ]
     },
     "metadata": {
      "needs_background": "light"
     },
     "output_type": "display_data"
    }
   ],
   "source": [
    "bins, norm_hist = compute_histogram(variable=pressure, bin_max=pressure.max(),\n",
    "                                    bin_min=pressure.min(), dbin=0.1, pdf=True)\n",
    "\n",
    "sig = np.std(pressure)\n",
    "mu = np.mean(pressure)\n",
    "gaus = (1.0/sig/np.sqrt(2*np.pi)) * (np.exp(-(bins-mu)**2 / (2*sig**2)))\n",
    "\n",
    "plt.figure(figsize=(8, 8))\n",
    "plt.plot(bins, norm_hist, 'b', lw=2, label='Data')\n",
    "plt.plot(bins, gaus, 'k', lw=2, label='Gaussian')\n",
    "plt.legend(fontsize=12)\n",
    "plt.xlabel('Pressure [dbar]', fontsize=14)\n",
    "plt.ylabel('Probability density',  fontsize=14)"
   ]
  },
  {
   "cell_type": "markdown",
   "metadata": {},
   "source": [
    "We like the Gaussian, because it's easy to calculate, and it has well\n",
    "defined properties.  We know that 68\\% of measurements will be within\n",
    "$\\pm \\sigma$ of the mean, and 95\\% of measurements will be within $\\pm 2\\sigma$\n",
    "of the mean.\n",
    "\n",
    "We can turn this around to decide whether a measurement is\n",
    "an outlier.  If we expect to see a lot of values near the mean, and we find that\n",
    "we have a measurement that deviates from the mean by 5 $\\sigma$, then it's\n",
    "not terribly statistically likely.  (For a Gaussian, 99.99994\\% of observations\n",
    "should be within $\\pm 5\\sigma$ of the mean.)  Thus we might decide to throw\n",
    "out all outliers that differ from the mean by more than 3 or 4 or 5$\\sigma$.\n",
    "\n",
    "We can also use this framework to think about uncertainty.  If we measure\n",
    "one realization of an estimate of the mean, that will become our best estimate\n",
    "of the mean.  If our formal estimate of our a priori uncertainty is correct\n",
    "(and we might also call this $\\sigma$, but let's use $\\delta$ for now),\n",
    "then we expect that\n",
    "68\\% of the time, our single observation should be within $\\pm\\delta$ of the\n",
    "true value, and 95\\% of the time, our single observation should be wihtin\n",
    "$\\pm2\\delta$ of the true value.\n",
    "\n",
    "And really, we like the Gaussian, because the convolution of a Gaussian\n",
    "with another Gaussian is still a Gaussian, so we can manipulate the\n",
    "statistics easily.  But are data necessarily normally distributed? So this might lead you to think that all data are fairly Gaussian."
   ]
  },
  {
   "cell_type": "markdown",
   "metadata": {},
   "source": [
    "### Example pdfs of real data? Non-Gaussian cases.\n",
    "Now what if we plot chlorophyll?"
   ]
  },
  {
   "cell_type": "markdown",
   "metadata": {},
   "source": [
    "The quality control of the Chlorophyll measurements in this dataset is provided in a separate variable `chlorophyll_flagPrimary`. So let's check what is the meaning of this flag:"
   ]
  },
  {
   "cell_type": "code",
   "execution_count": 13,
   "metadata": {},
   "outputs": [
    {
     "data": {
      "text/html": [
       "<div><svg style=\"position: absolute; width: 0; height: 0; overflow: hidden\">\n",
       "<defs>\n",
       "<symbol id=\"icon-database\" viewBox=\"0 0 32 32\">\n",
       "<path d=\"M16 0c-8.837 0-16 2.239-16 5v4c0 2.761 7.163 5 16 5s16-2.239 16-5v-4c0-2.761-7.163-5-16-5z\"></path>\n",
       "<path d=\"M16 17c-8.837 0-16-2.239-16-5v6c0 2.761 7.163 5 16 5s16-2.239 16-5v-6c0 2.761-7.163 5-16 5z\"></path>\n",
       "<path d=\"M16 26c-8.837 0-16-2.239-16-5v6c0 2.761 7.163 5 16 5s16-2.239 16-5v-6c0 2.761-7.163 5-16 5z\"></path>\n",
       "</symbol>\n",
       "<symbol id=\"icon-file-text2\" viewBox=\"0 0 32 32\">\n",
       "<path d=\"M28.681 7.159c-0.694-0.947-1.662-2.053-2.724-3.116s-2.169-2.030-3.116-2.724c-1.612-1.182-2.393-1.319-2.841-1.319h-15.5c-1.378 0-2.5 1.121-2.5 2.5v27c0 1.378 1.122 2.5 2.5 2.5h23c1.378 0 2.5-1.122 2.5-2.5v-19.5c0-0.448-0.137-1.23-1.319-2.841zM24.543 5.457c0.959 0.959 1.712 1.825 2.268 2.543h-4.811v-4.811c0.718 0.556 1.584 1.309 2.543 2.268zM28 29.5c0 0.271-0.229 0.5-0.5 0.5h-23c-0.271 0-0.5-0.229-0.5-0.5v-27c0-0.271 0.229-0.5 0.5-0.5 0 0 15.499-0 15.5 0v7c0 0.552 0.448 1 1 1h7v19.5z\"></path>\n",
       "<path d=\"M23 26h-14c-0.552 0-1-0.448-1-1s0.448-1 1-1h14c0.552 0 1 0.448 1 1s-0.448 1-1 1z\"></path>\n",
       "<path d=\"M23 22h-14c-0.552 0-1-0.448-1-1s0.448-1 1-1h14c0.552 0 1 0.448 1 1s-0.448 1-1 1z\"></path>\n",
       "<path d=\"M23 18h-14c-0.552 0-1-0.448-1-1s0.448-1 1-1h14c0.552 0 1 0.448 1 1s-0.448 1-1 1z\"></path>\n",
       "</symbol>\n",
       "</defs>\n",
       "</svg>\n",
       "<style>/* CSS stylesheet for displaying xarray objects in jupyterlab.\n",
       " *\n",
       " */\n",
       "\n",
       ":root {\n",
       "  --xr-font-color0: var(--jp-content-font-color0, rgba(0, 0, 0, 1));\n",
       "  --xr-font-color2: var(--jp-content-font-color2, rgba(0, 0, 0, 0.54));\n",
       "  --xr-font-color3: var(--jp-content-font-color3, rgba(0, 0, 0, 0.38));\n",
       "  --xr-border-color: var(--jp-border-color2, #e0e0e0);\n",
       "  --xr-disabled-color: var(--jp-layout-color3, #bdbdbd);\n",
       "  --xr-background-color: var(--jp-layout-color0, white);\n",
       "  --xr-background-color-row-even: var(--jp-layout-color1, white);\n",
       "  --xr-background-color-row-odd: var(--jp-layout-color2, #eeeeee);\n",
       "}\n",
       "\n",
       "html[theme=dark],\n",
       "body.vscode-dark {\n",
       "  --xr-font-color0: rgba(255, 255, 255, 1);\n",
       "  --xr-font-color2: rgba(255, 255, 255, 0.54);\n",
       "  --xr-font-color3: rgba(255, 255, 255, 0.38);\n",
       "  --xr-border-color: #1F1F1F;\n",
       "  --xr-disabled-color: #515151;\n",
       "  --xr-background-color: #111111;\n",
       "  --xr-background-color-row-even: #111111;\n",
       "  --xr-background-color-row-odd: #313131;\n",
       "}\n",
       "\n",
       ".xr-wrap {\n",
       "  display: block;\n",
       "  min-width: 300px;\n",
       "  max-width: 700px;\n",
       "}\n",
       "\n",
       ".xr-text-repr-fallback {\n",
       "  /* fallback to plain text repr when CSS is not injected (untrusted notebook) */\n",
       "  display: none;\n",
       "}\n",
       "\n",
       ".xr-header {\n",
       "  padding-top: 6px;\n",
       "  padding-bottom: 6px;\n",
       "  margin-bottom: 4px;\n",
       "  border-bottom: solid 1px var(--xr-border-color);\n",
       "}\n",
       "\n",
       ".xr-header > div,\n",
       ".xr-header > ul {\n",
       "  display: inline;\n",
       "  margin-top: 0;\n",
       "  margin-bottom: 0;\n",
       "}\n",
       "\n",
       ".xr-obj-type,\n",
       ".xr-array-name {\n",
       "  margin-left: 2px;\n",
       "  margin-right: 10px;\n",
       "}\n",
       "\n",
       ".xr-obj-type {\n",
       "  color: var(--xr-font-color2);\n",
       "}\n",
       "\n",
       ".xr-sections {\n",
       "  padding-left: 0 !important;\n",
       "  display: grid;\n",
       "  grid-template-columns: 150px auto auto 1fr 20px 20px;\n",
       "}\n",
       "\n",
       ".xr-section-item {\n",
       "  display: contents;\n",
       "}\n",
       "\n",
       ".xr-section-item input {\n",
       "  display: none;\n",
       "}\n",
       "\n",
       ".xr-section-item input + label {\n",
       "  color: var(--xr-disabled-color);\n",
       "}\n",
       "\n",
       ".xr-section-item input:enabled + label {\n",
       "  cursor: pointer;\n",
       "  color: var(--xr-font-color2);\n",
       "}\n",
       "\n",
       ".xr-section-item input:enabled + label:hover {\n",
       "  color: var(--xr-font-color0);\n",
       "}\n",
       "\n",
       ".xr-section-summary {\n",
       "  grid-column: 1;\n",
       "  color: var(--xr-font-color2);\n",
       "  font-weight: 500;\n",
       "}\n",
       "\n",
       ".xr-section-summary > span {\n",
       "  display: inline-block;\n",
       "  padding-left: 0.5em;\n",
       "}\n",
       "\n",
       ".xr-section-summary-in:disabled + label {\n",
       "  color: var(--xr-font-color2);\n",
       "}\n",
       "\n",
       ".xr-section-summary-in + label:before {\n",
       "  display: inline-block;\n",
       "  content: '►';\n",
       "  font-size: 11px;\n",
       "  width: 15px;\n",
       "  text-align: center;\n",
       "}\n",
       "\n",
       ".xr-section-summary-in:disabled + label:before {\n",
       "  color: var(--xr-disabled-color);\n",
       "}\n",
       "\n",
       ".xr-section-summary-in:checked + label:before {\n",
       "  content: '▼';\n",
       "}\n",
       "\n",
       ".xr-section-summary-in:checked + label > span {\n",
       "  display: none;\n",
       "}\n",
       "\n",
       ".xr-section-summary,\n",
       ".xr-section-inline-details {\n",
       "  padding-top: 4px;\n",
       "  padding-bottom: 4px;\n",
       "}\n",
       "\n",
       ".xr-section-inline-details {\n",
       "  grid-column: 2 / -1;\n",
       "}\n",
       "\n",
       ".xr-section-details {\n",
       "  display: none;\n",
       "  grid-column: 1 / -1;\n",
       "  margin-bottom: 5px;\n",
       "}\n",
       "\n",
       ".xr-section-summary-in:checked ~ .xr-section-details {\n",
       "  display: contents;\n",
       "}\n",
       "\n",
       ".xr-array-wrap {\n",
       "  grid-column: 1 / -1;\n",
       "  display: grid;\n",
       "  grid-template-columns: 20px auto;\n",
       "}\n",
       "\n",
       ".xr-array-wrap > label {\n",
       "  grid-column: 1;\n",
       "  vertical-align: top;\n",
       "}\n",
       "\n",
       ".xr-preview {\n",
       "  color: var(--xr-font-color3);\n",
       "}\n",
       "\n",
       ".xr-array-preview,\n",
       ".xr-array-data {\n",
       "  padding: 0 5px !important;\n",
       "  grid-column: 2;\n",
       "}\n",
       "\n",
       ".xr-array-data,\n",
       ".xr-array-in:checked ~ .xr-array-preview {\n",
       "  display: none;\n",
       "}\n",
       "\n",
       ".xr-array-in:checked ~ .xr-array-data,\n",
       ".xr-array-preview {\n",
       "  display: inline-block;\n",
       "}\n",
       "\n",
       ".xr-dim-list {\n",
       "  display: inline-block !important;\n",
       "  list-style: none;\n",
       "  padding: 0 !important;\n",
       "  margin: 0;\n",
       "}\n",
       "\n",
       ".xr-dim-list li {\n",
       "  display: inline-block;\n",
       "  padding: 0;\n",
       "  margin: 0;\n",
       "}\n",
       "\n",
       ".xr-dim-list:before {\n",
       "  content: '(';\n",
       "}\n",
       "\n",
       ".xr-dim-list:after {\n",
       "  content: ')';\n",
       "}\n",
       "\n",
       ".xr-dim-list li:not(:last-child):after {\n",
       "  content: ',';\n",
       "  padding-right: 5px;\n",
       "}\n",
       "\n",
       ".xr-has-index {\n",
       "  font-weight: bold;\n",
       "}\n",
       "\n",
       ".xr-var-list,\n",
       ".xr-var-item {\n",
       "  display: contents;\n",
       "}\n",
       "\n",
       ".xr-var-item > div,\n",
       ".xr-var-item label,\n",
       ".xr-var-item > .xr-var-name span {\n",
       "  background-color: var(--xr-background-color-row-even);\n",
       "  margin-bottom: 0;\n",
       "}\n",
       "\n",
       ".xr-var-item > .xr-var-name:hover span {\n",
       "  padding-right: 5px;\n",
       "}\n",
       "\n",
       ".xr-var-list > li:nth-child(odd) > div,\n",
       ".xr-var-list > li:nth-child(odd) > label,\n",
       ".xr-var-list > li:nth-child(odd) > .xr-var-name span {\n",
       "  background-color: var(--xr-background-color-row-odd);\n",
       "}\n",
       "\n",
       ".xr-var-name {\n",
       "  grid-column: 1;\n",
       "}\n",
       "\n",
       ".xr-var-dims {\n",
       "  grid-column: 2;\n",
       "}\n",
       "\n",
       ".xr-var-dtype {\n",
       "  grid-column: 3;\n",
       "  text-align: right;\n",
       "  color: var(--xr-font-color2);\n",
       "}\n",
       "\n",
       ".xr-var-preview {\n",
       "  grid-column: 4;\n",
       "}\n",
       "\n",
       ".xr-var-name,\n",
       ".xr-var-dims,\n",
       ".xr-var-dtype,\n",
       ".xr-preview,\n",
       ".xr-attrs dt {\n",
       "  white-space: nowrap;\n",
       "  overflow: hidden;\n",
       "  text-overflow: ellipsis;\n",
       "  padding-right: 10px;\n",
       "}\n",
       "\n",
       ".xr-var-name:hover,\n",
       ".xr-var-dims:hover,\n",
       ".xr-var-dtype:hover,\n",
       ".xr-attrs dt:hover {\n",
       "  overflow: visible;\n",
       "  width: auto;\n",
       "  z-index: 1;\n",
       "}\n",
       "\n",
       ".xr-var-attrs,\n",
       ".xr-var-data {\n",
       "  display: none;\n",
       "  background-color: var(--xr-background-color) !important;\n",
       "  padding-bottom: 5px !important;\n",
       "}\n",
       "\n",
       ".xr-var-attrs-in:checked ~ .xr-var-attrs,\n",
       ".xr-var-data-in:checked ~ .xr-var-data {\n",
       "  display: block;\n",
       "}\n",
       "\n",
       ".xr-var-data > table {\n",
       "  float: right;\n",
       "}\n",
       "\n",
       ".xr-var-name span,\n",
       ".xr-var-data,\n",
       ".xr-attrs {\n",
       "  padding-left: 25px !important;\n",
       "}\n",
       "\n",
       ".xr-attrs,\n",
       ".xr-var-attrs,\n",
       ".xr-var-data {\n",
       "  grid-column: 1 / -1;\n",
       "}\n",
       "\n",
       "dl.xr-attrs {\n",
       "  padding: 0;\n",
       "  margin: 0;\n",
       "  display: grid;\n",
       "  grid-template-columns: 125px auto;\n",
       "}\n",
       "\n",
       ".xr-attrs dt,\n",
       ".xr-attrs dd {\n",
       "  padding: 0;\n",
       "  margin: 0;\n",
       "  float: left;\n",
       "  padding-right: 10px;\n",
       "  width: auto;\n",
       "}\n",
       "\n",
       ".xr-attrs dt {\n",
       "  font-weight: normal;\n",
       "  grid-column: 1;\n",
       "}\n",
       "\n",
       ".xr-attrs dt:hover span {\n",
       "  display: inline-block;\n",
       "  background: var(--xr-background-color);\n",
       "  padding-right: 10px;\n",
       "}\n",
       "\n",
       ".xr-attrs dd {\n",
       "  grid-column: 2;\n",
       "  white-space: pre-wrap;\n",
       "  word-break: break-all;\n",
       "}\n",
       "\n",
       ".xr-icon-database,\n",
       ".xr-icon-file-text2 {\n",
       "  display: inline-block;\n",
       "  vertical-align: middle;\n",
       "  width: 1em;\n",
       "  height: 1.5em !important;\n",
       "  stroke-width: 0;\n",
       "  stroke: currentColor;\n",
       "  fill: currentColor;\n",
       "}\n",
       "</style><pre class='xr-text-repr-fallback'>&lt;xarray.DataArray &#x27;chlorophyll_flagPrimary&#x27; (time: 130442)&gt;\n",
       "[130442 values with dtype=float32]\n",
       "Coordinates:\n",
       "  * time     (time) object 2020-01-01 00:00:32 ... 2020-12-31 23:57:35\n",
       "    lat      float32 32.87\n",
       "    lon      float32 -117.3\n",
       "    depth    float32 5.0\n",
       "Attributes:\n",
       "    long_name:      sea water chlorophyll, qc primary flag\n",
       "    standard_name:  mass_concentration_of_chlorophyll_a_in_sea_water status_flag\n",
       "    flag_meanings:  GOOD_DATA UNKNOWN SUSPECT BAD_DATA MISSING\n",
       "    flag_values:    [1 2 3 4 9]\n",
       "    comment:        Quality Control test are based on IOOS&#x27;s Quality Control ...\n",
       "    source:         QC results\n",
       "    references:     https://github.com/ioos/qartod\n",
       "    _ChunkSizes:    4096</pre><div class='xr-wrap' hidden><div class='xr-header'><div class='xr-obj-type'>xarray.DataArray</div><div class='xr-array-name'>'chlorophyll_flagPrimary'</div><ul class='xr-dim-list'><li><span class='xr-has-index'>time</span>: 130442</li></ul></div><ul class='xr-sections'><li class='xr-section-item'><div class='xr-array-wrap'><input id='section-3f1c6c15-7cfd-4b34-8f65-fd1fe83e0080' class='xr-array-in' type='checkbox' checked><label for='section-3f1c6c15-7cfd-4b34-8f65-fd1fe83e0080' title='Show/hide data repr'><svg class='icon xr-icon-database'><use xlink:href='#icon-database'></use></svg></label><div class='xr-array-preview xr-preview'><span>...</span></div><div class='xr-array-data'><pre>[130442 values with dtype=float32]</pre></div></div></li><li class='xr-section-item'><input id='section-5ecb33f7-c4e9-473b-989a-b26037f74d01' class='xr-section-summary-in' type='checkbox'  checked><label for='section-5ecb33f7-c4e9-473b-989a-b26037f74d01' class='xr-section-summary' >Coordinates: <span>(4)</span></label><div class='xr-section-inline-details'></div><div class='xr-section-details'><ul class='xr-var-list'><li class='xr-var-item'><div class='xr-var-name'><span class='xr-has-index'>time</span></div><div class='xr-var-dims'>(time)</div><div class='xr-var-dtype'>object</div><div class='xr-var-preview xr-preview'>2020-01-01 00:00:32 ... 2020-12-...</div><input id='attrs-33b12beb-eabb-4714-ae93-17c2bd9c0050' class='xr-var-attrs-in' type='checkbox' ><label for='attrs-33b12beb-eabb-4714-ae93-17c2bd9c0050' title='Show/Hide attributes'><svg class='icon xr-icon-file-text2'><use xlink:href='#icon-file-text2'></use></svg></label><input id='data-f983606e-c6f9-4f32-be4b-c106acc4cf1e' class='xr-var-data-in' type='checkbox'><label for='data-f983606e-c6f9-4f32-be4b-c106acc4cf1e' title='Show/Hide data repr'><svg class='icon xr-icon-database'><use xlink:href='#icon-database'></use></svg></label><div class='xr-var-attrs'><dl class='xr-attrs'><dt><span>comment :</span></dt><dd>also known as Epoch or Unix time</dd><dt><span>platform :</span></dt><dd>platform1</dd><dt><span>long_name :</span></dt><dd>time</dd><dt><span>standard_name :</span></dt><dd>time</dd><dt><span>axis :</span></dt><dd>T</dd><dt><span>_ChunkSizes :</span></dt><dd>1024</dd></dl></div><div class='xr-var-data'><pre>array([cftime.DatetimeJulian(2020, 1, 1, 0, 0, 32, 0, has_year_zero=False),\n",
       "       cftime.DatetimeJulian(2020, 1, 1, 0, 4, 32, 0, has_year_zero=False),\n",
       "       cftime.DatetimeJulian(2020, 1, 1, 0, 8, 32, 0, has_year_zero=False),\n",
       "       ...,\n",
       "       cftime.DatetimeJulian(2020, 12, 31, 23, 49, 35, 0, has_year_zero=False),\n",
       "       cftime.DatetimeJulian(2020, 12, 31, 23, 53, 35, 0, has_year_zero=False),\n",
       "       cftime.DatetimeJulian(2020, 12, 31, 23, 57, 35, 0, has_year_zero=False)],\n",
       "      dtype=object)</pre></div></li><li class='xr-var-item'><div class='xr-var-name'><span>lat</span></div><div class='xr-var-dims'>()</div><div class='xr-var-dtype'>float32</div><div class='xr-var-preview xr-preview'>...</div><input id='attrs-aaa16933-9922-46e6-a901-4f419f530325' class='xr-var-attrs-in' type='checkbox' ><label for='attrs-aaa16933-9922-46e6-a901-4f419f530325' title='Show/Hide attributes'><svg class='icon xr-icon-file-text2'><use xlink:href='#icon-file-text2'></use></svg></label><input id='data-c3a9cd06-db69-4b6f-8dff-d59f1acfd123' class='xr-var-data-in' type='checkbox'><label for='data-c3a9cd06-db69-4b6f-8dff-d59f1acfd123' title='Show/Hide data repr'><svg class='icon xr-icon-database'><use xlink:href='#icon-database'></use></svg></label><div class='xr-var-attrs'><dl class='xr-attrs'><dt><span>units :</span></dt><dd>degrees_north</dd><dt><span>long_name :</span></dt><dd>latitude</dd><dt><span>standard_name :</span></dt><dd>latitude</dd><dt><span>comment :</span></dt><dd>latitude of sensor</dd><dt><span>axis :</span></dt><dd>Y</dd><dt><span>valid_mix :</span></dt><dd>32.867</dd><dt><span>data_max :</span></dt><dd>32.867</dd><dt><span>valid_max :</span></dt><dd>32.867</dd><dt><span>data_min :</span></dt><dd>32.867</dd></dl></div><div class='xr-var-data'><pre>array(32.867, dtype=float32)</pre></div></li><li class='xr-var-item'><div class='xr-var-name'><span>lon</span></div><div class='xr-var-dims'>()</div><div class='xr-var-dtype'>float32</div><div class='xr-var-preview xr-preview'>...</div><input id='attrs-4c8423a1-9c77-470d-9420-4616ef38d509' class='xr-var-attrs-in' type='checkbox' ><label for='attrs-4c8423a1-9c77-470d-9420-4616ef38d509' title='Show/Hide attributes'><svg class='icon xr-icon-file-text2'><use xlink:href='#icon-file-text2'></use></svg></label><input id='data-6c1a7d22-1fae-4db0-a9f9-14efb228d124' class='xr-var-data-in' type='checkbox'><label for='data-6c1a7d22-1fae-4db0-a9f9-14efb228d124' title='Show/Hide data repr'><svg class='icon xr-icon-database'><use xlink:href='#icon-database'></use></svg></label><div class='xr-var-attrs'><dl class='xr-attrs'><dt><span>units :</span></dt><dd>degrees_east</dd><dt><span>long_name :</span></dt><dd>longitude</dd><dt><span>standard_name :</span></dt><dd>longitude</dd><dt><span>comment :</span></dt><dd>longitude of sensor</dd><dt><span>axis :</span></dt><dd>X</dd><dt><span>valid_min :</span></dt><dd>-117.257</dd><dt><span>data_max :</span></dt><dd>-117.257</dd><dt><span>valid_max :</span></dt><dd>-117.257</dd><dt><span>data_min :</span></dt><dd>-117.257</dd></dl></div><div class='xr-var-data'><pre>array(-117.257, dtype=float32)</pre></div></li><li class='xr-var-item'><div class='xr-var-name'><span>depth</span></div><div class='xr-var-dims'>()</div><div class='xr-var-dtype'>float32</div><div class='xr-var-preview xr-preview'>...</div><input id='attrs-4c865f6e-07c6-482e-9131-5f9acc5c8367' class='xr-var-attrs-in' type='checkbox' ><label for='attrs-4c865f6e-07c6-482e-9131-5f9acc5c8367' title='Show/Hide attributes'><svg class='icon xr-icon-file-text2'><use xlink:href='#icon-file-text2'></use></svg></label><input id='data-662efbfa-02ed-42f4-aa08-b67877c5b176' class='xr-var-data-in' type='checkbox'><label for='data-662efbfa-02ed-42f4-aa08-b67877c5b176' title='Show/Hide data repr'><svg class='icon xr-icon-database'><use xlink:href='#icon-database'></use></svg></label><div class='xr-var-attrs'><dl class='xr-attrs'><dt><span>comment :</span></dt><dd>depth of sensor</dd><dt><span>positive :</span></dt><dd>down</dd><dt><span>long_name :</span></dt><dd>depth</dd><dt><span>standard_name :</span></dt><dd>depth</dd><dt><span>units :</span></dt><dd>m</dd><dt><span>axis :</span></dt><dd>Z</dd><dt><span>valid_min :</span></dt><dd>5.0</dd><dt><span>data_max :</span></dt><dd>5.0</dd><dt><span>valid_max :</span></dt><dd>5.0</dd><dt><span>data_min :</span></dt><dd>5.0</dd></dl></div><div class='xr-var-data'><pre>array(5., dtype=float32)</pre></div></li></ul></div></li><li class='xr-section-item'><input id='section-063ab64c-f82d-4564-b451-e3997bcce8a4' class='xr-section-summary-in' type='checkbox'  checked><label for='section-063ab64c-f82d-4564-b451-e3997bcce8a4' class='xr-section-summary' >Attributes: <span>(8)</span></label><div class='xr-section-inline-details'></div><div class='xr-section-details'><dl class='xr-attrs'><dt><span>long_name :</span></dt><dd>sea water chlorophyll, qc primary flag</dd><dt><span>standard_name :</span></dt><dd>mass_concentration_of_chlorophyll_a_in_sea_water status_flag</dd><dt><span>flag_meanings :</span></dt><dd>GOOD_DATA UNKNOWN SUSPECT BAD_DATA MISSING</dd><dt><span>flag_values :</span></dt><dd>[1 2 3 4 9]</dd><dt><span>comment :</span></dt><dd>Quality Control test are based on IOOS&#x27;s Quality Control of Real-Time Ocean Data (QARTOD))</dd><dt><span>source :</span></dt><dd>QC results</dd><dt><span>references :</span></dt><dd>https://github.com/ioos/qartod</dd><dt><span>_ChunkSizes :</span></dt><dd>4096</dd></dl></div></li></ul></div></div>"
      ],
      "text/plain": [
       "<xarray.DataArray 'chlorophyll_flagPrimary' (time: 130442)>\n",
       "[130442 values with dtype=float32]\n",
       "Coordinates:\n",
       "  * time     (time) object 2020-01-01 00:00:32 ... 2020-12-31 23:57:35\n",
       "    lat      float32 ...\n",
       "    lon      float32 ...\n",
       "    depth    float32 ...\n",
       "Attributes:\n",
       "    long_name:      sea water chlorophyll, qc primary flag\n",
       "    standard_name:  mass_concentration_of_chlorophyll_a_in_sea_water status_flag\n",
       "    flag_meanings:  GOOD_DATA UNKNOWN SUSPECT BAD_DATA MISSING\n",
       "    flag_values:    [1 2 3 4 9]\n",
       "    comment:        Quality Control test are based on IOOS's Quality Control ...\n",
       "    source:         QC results\n",
       "    references:     https://github.com/ioos/qartod\n",
       "    _ChunkSizes:    4096"
      ]
     },
     "execution_count": 13,
     "metadata": {},
     "output_type": "execute_result"
    }
   ],
   "source": [
    "ds['chlorophyll_flagPrimary']"
   ]
  },
  {
   "cell_type": "markdown",
   "metadata": {},
   "source": [
    "So, it looks like the flag for good data is 1. Below we sellect only thw good values."
   ]
  },
  {
   "cell_type": "code",
   "execution_count": 14,
   "metadata": {},
   "outputs": [],
   "source": [
    "flag = ds['chlorophyll_flagPrimary'].values==1\n",
    "good_chl = ds['chlorophyll'].values[flag]\n",
    "bins = np.linspace(good_chl.min(), good_chl.max(), 30)\n",
    "chl_mu = np.mean(good_chl)\n",
    "chl_sig = np.std(good_chl)\n",
    "chl_gaus = (1.0/chl_sig/np.sqrt(2*np.pi)) * (np.exp(-(bins-chl_mu)**2 / (2*chl_sig**2)))"
   ]
  },
  {
   "cell_type": "code",
   "execution_count": 15,
   "metadata": {},
   "outputs": [
    {
     "data": {
      "text/plain": [
       "<matplotlib.legend.Legend at 0x7f9c38d9b430>"
      ]
     },
     "execution_count": 15,
     "metadata": {},
     "output_type": "execute_result"
    },
    {
     "data": {
      "image/png": "[encoded data removed]",
      "text/plain": [
       "<Figure size 576x576 with 1 Axes>"
      ]
     },
     "metadata": {
      "needs_background": "light"
     },
     "output_type": "display_data"
    }
   ],
   "source": [
    "plt.figure(figsize=(8, 8))\n",
    "hist = plt.hist(good_chl, bins=bins, density=True, label = 'Observations')\n",
    "plt.plot(bins, chl_gaus, 'k', lw=2, label='Gaussian')\n",
    "plt.xlabel('Chlorophyll concentration  [$\\mu$ g/L]', fontsize=14)\n",
    "plt.ylabel('Probability density',  fontsize=14)\n",
    "plt.legend(fontsize=12)"
   ]
  },
  {
   "cell_type": "markdown",
   "metadata": {},
   "source": [
    "As illustrated above, chlorophyll concentrations are decidedly non-Gaussian.  (We usually\n",
    "refer to chlorophyll as being log-normally distributed, meaning that the\n",
    "log of the values might be Gaussian.)"
   ]
  },
  {
   "cell_type": "markdown",
   "metadata": {},
   "source": [
    "Ocean velocity data often have a double-exponential distribution, as do\n",
    "wind velocity data:\n",
    "\n",
    "$$\\begin{equation}\n",
    "p(x)=\\frac{1}{\\sigma\\sqrt{2}} \\exp{\\left[-\\frac{\\left|x\\right|\\sqrt{2}}{\\sigma} \\right]}. \\hspace{3cm} (6)\n",
    "\\end{equation}$$\n",
    "\n",
    "Sometimes we only measure wind speed, and that's necessarily positive.\n",
    "The Rayleigh distribution is sometimes a good representation of wind\n",
    "speed:  it is defined from the square root sum of two independent\n",
    "Gaussian components squared, $y=\\sqrt{x_1^2 + x_2^2}$.\n",
    "$$\\begin{equation}\n",
    "p(y)=\\frac{y}{\\sigma^2} \\exp{\\left[-\\frac{y^2}{2\\sigma^2} \\right]}.\\hspace{3cm} (7)\n",
    "\\end{equation}$$"
   ]
  },
  {
   "cell_type": "markdown",
   "metadata": {},
   "source": [
    "### Summing variables, error propagation, and the central limit theorem\n",
    "\n",
    "Given that so many pdfs can be non-Gaussian, why do we spend so much\n",
    "time talking about Gaussians?  There are two important reasons.\n",
    "\n",
    "1. As noted above, the Gaussian is mathematically tractable.\n",
    "2. Even though individual pdfs are non-Gaussian, if we sum enough variables, everything is Gaussian.  (This is the central limit theorem, which we'll get to next time.)\n",
    "\n",
    "\n",
    "Often the quantities we study represent a summation of multiple\n",
    "random variables.  For example, we're not interested in the instantaneous\n",
    "temperature but the average over an hour or a day.  Thus we consider\n",
    "\n",
    "$$\\begin{equation}\n",
    "x(k) = \\sum_{i=1}^{N} a_i x_i(k),\\hspace{3cm} (8)\n",
    "\\end{equation}$$\n",
    "\n",
    "following the terminology of Bendat and Piersol, where $a_i$ is a\n",
    "coefficient. The mean of $x$ is\n",
    "$$\\begin{equation}\n",
    "\\mu_x = E(x(k)) = E\\left[\\sum_{i=1}^{N} a_i x_i(k)\\right] = \\left[\\sum_{i=1}^{N} a_i E(x_i(k))\\right] =\n",
    "\\sum_{i=1}^{N} a_i \\mu_i. \\hspace{3cm} (9)\n",
    "\\end{equation}$$\n",
    "\n",
    "and\n",
    "\n",
    "$$\\begin{equation}\n",
    "\\sigma_x^2 = E\\left[(x(k)-\\mu_x)^2\\right] =\n",
    "=E\\left[\\sum_{i=1}^{N} a_i (x_i(k)-\\mu_i)\\right]^2\n",
    "= \\sum_{i=1}^{N} a_i^2 \\sigma_i^2. \\hspace{3cm} (10)\n",
    "\\end{equation}$$\n",
    "\n",
    "In doing this, we've carried out a little sleight of hand, by assuming\n",
    "that for a large ensemble (as the number of elements used to define our\n",
    "expectation value $E$ approaches $\\infty$) the correlation between\n",
    "$x_i$ and $x_j$ is zero so that the expectation value\n",
    "$E[(x_i(k)-\\mu_i)(x_j(k)-\\mu_j)] = 0$ for $i\\ne j$.\n",
    "\n",
    "This gives us some simple rules of thumb:\n",
    "\n",
    "#### *Standard error of the mean.*\n",
    "Suppose that $a_i$ is an averaging operator and is equal to $1/N$, and\n",
    "$\\sigma_i$ is the same for all $i$.  Then\n",
    "\n",
    "$$\\begin{equation}\n",
    "\\sigma_x^2 =  \\sum_{i=1}^{N} a_i^2 \\sigma_i^2 = \\frac{N\\sigma_i^2}{N^2} =\n",
    "\\frac{\\sigma_i^2}{N}.\\hspace{3cm} (11)\n",
    "\\end{equation}$$\n",
    "\n",
    "This means that the standard deviation of the mean, {\\it the standard error\n",
    "of the mean}, is $\\sigma/\\sqrt{N}$.\n",
    "\n",
    "As a footnote to this, the {\\it standard error of the variance} is\n",
    "$\\sigma^2\\sqrt{2/(N-1)}$.\n",
    "\n",
    "#### *Error Propagation*\n",
    "Our consideration of the summed variables\n",
    "gives us a rule for estimating uncertainties of computed quantities.  If\n",
    "we sum a variety of measures together, then the overall uncertainty\n",
    "will be determined by the square root of the sum of the squares:\n",
    "\\begin{equation}\n",
    "\\delta_y = \\sqrt{\\sum_{i=1}^{N} a_i^2 \\delta_i^2},\n",
    "\\end{equation}\n",
    "where here we're using $\\delta_i$ to represent the a priori uncertainties. \n",
    "\n",
    "What if we have to multiply quantities together?  Then we simply\n",
    "linearize about the value of interest. We'll do this properly next time."
   ]
  }
 ],
 "metadata": {
  "kernelspec": {
   "display_name": "Python 3 (ipykernel)",
   "language": "python",
   "name": "python3"
  },
  "language_info": {
   "codemirror_mode": {
    "name": "ipython",
    "version": 3
   },
   "file_extension": ".py",
   "mimetype": "text/x-python",
   "name": "python",
   "nbconvert_exporter": "python",
   "pygments_lexer": "ipython3",
   "version": "3.9.7"
  }
 },
 "nbformat": 4,
 "nbformat_minor": 4
}

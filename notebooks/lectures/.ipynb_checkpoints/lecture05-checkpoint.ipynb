{
 "cells": [
  {
   "cell_type": "markdown",
   "metadata": {},
   "source": [
    "# Analysis of Physical Oceanographic Data - SIO 221A\n",
    "### Python version of [Sarah Gille's](http://pordlabs.ucsd.edu/sgille/sioc221a/index.html) notes by:\n",
    "#### Bia Villas Bôas (avillasboas@ucsd.edu) & Gui Castelão (castelao@ucsd.edu)"
   ]
  },
  {
   "cell_type": "markdown",
   "metadata": {},
   "source": [
    "## Lecture 5"
   ]
  },
  {
   "cell_type": "markdown",
   "metadata": {},
   "source": [
    "#### Recap\n",
    "\n",
    "Last time we looked at least-squares fitting.  We derived the formula for\n",
    "a least-squares fit and showed that we could find a linear trend and\n",
    "a sinusoidal variation.  We set up the least squares problem and looked at\n",
    "sinusoidal fits, and we finished up by asking what would happen if we fit\n",
    "multiple sinusoidal signals at once.  That's where we'll start today.\n",
    "\n",
    "#### Least-squares fits and misfit\n",
    "\n",
    "You'll recall that last time we considered a least-squares fit of the form\n",
    "\n",
    "$$\\begin{equation}\n",
    "{\\bf Ax} + {\\bf n}= {\\bf y}.\\hspace{3cm} (1)\n",
    "\\end{equation}$$\n",
    "\n",
    "The misfit is defined as a squared quantity so should follow\n",
    "the $\\chi^2$ statistic.  (Yet another use of\n",
    "$\\chi^2$.)  If I believe my *it a priori* uncertainties in my data are\n",
    "${\\bf \\sigma}$, then I expect that my misfit should roughly match my uncertainty\n",
    "so I can define a weighted summed misfit:\n",
    "\n",
    "$$\\begin{equation}\n",
    "\\chi^2 = \\sum_{i=1}^N \\left(\\frac{y_i - \\sum_{j=1}^{M} a_{i,j}x_j}{\\sigma_i}\\right)^2.\\hspace{3cm} (2)\n",
    "\\end{equation}$$\n",
    "\n",
    "Here we're summing the squared misfit of each row in our matrix equation, weighted by\n",
    "our uncertainty.  If our error bars make sense, then this should yield about $N$,\n",
    "reduced by the number of functions were fitting.  So we expect that $\\chi^2$\n",
    "will be about $N-M$, which is the number of degrees of freedom.  Formally we can\n",
    "decide if our fit is too good to be true by evaluating $\\chi^2$ using the incomplete\n",
    "gamma function, to find where the observed $\\chi^2$ falls within the expected\n",
    "pdf of a $\\chi^2$ distribution:"
   ]
  },
  {
   "cell_type": "markdown",
   "metadata": {},
   "source": [
    "``p = scipy.special.gammaincc(nu/2, chi_squared/2)``"
   ]
  },
  {
   "cell_type": "markdown",
   "metadata": {},
   "source": [
    "(Here we divide both $\\chi^2$ and $\\nu$ by 2 because of the way that gammainc is defined.)If $p$ is smaller than 0.05 or greater than 0.95, then our observed value is\n",
    "outside the range expected for 90\\% of observed $\\chi^2$ values.\n",
    "If $p$ is near 1, it can tell us that our fit is too good to be true.  Likewise,\n",
    "if $p$ is too\n",
    "small, it can tell us that our fit isn't properly representing the data---either\n",
    "the model is wrong, or the a priori error bars are too large.\n",
    "\n",
    "Alternatively, we can solve for upper and lower threshold $\\chi^2$ values:\n",
    "if $\\chi^2>\\chi_{upper}^2$, then we reject the hypothesis at the $\\alpha$\n",
    "level.  And if $\\chi^2<\\chi_{lower}^2$ we also know we're out of range.  So"
   ]
  },
  {
   "cell_type": "markdown",
   "metadata": {},
   "source": [
    "``chi2_upper = scipy.special.gammainccinv(nu/2, 0.05)*2.``\n",
    "\n",
    "``chi2_lower = scipy.special.gammaincinv(nu/2, 0.05)*2.``"
   ]
  },
  {
   "cell_type": "markdown",
   "metadata": {},
   "source": [
    "What happens in the limit when we fit $N$ data points with $N$ columns in matrix ${ \\bf A}$?\n",
    "The matrix ${\\bf A}$ is an $N\\times N$ square matrix, and we are solving for as many unknowns\n",
    "in ${\\bf x}$ as we had data in ${\\bf y}$.  In this\n",
    "case, if $\\chi^2$ is zero, $p$ will be 1, warning us that we're over-fitting our\n",
    "data.\n",
    "What happens to our noise ${\\bf n}$?  By\n",
    "using $N$ orthogonal functions, we obtain a perfect fit and the noise is\n",
    "zero.  That's convenient, but it loses any information that we might have\n",
    "had about uncertainties in our data.  If we made noisy measurements, we might\n",
    "not have any reason to expect a perfect fit, but we'll have one anyway.\n",
    "\n",
    "#### Multiple oscillatory signals\n",
    "\n",
    "You might wonder if you'll bias your results by fitting for all of the\n",
    "sinusoidal variability all at once.  Usually, the answer is no.  Assuming\n",
    "that your time series is long enough, sinusoidal frequencies are\n",
    "orthogonal to each other:   there is no correlation between $\\sin(2\\pi t/T)$\n",
    "and $\\sin(2\\pi 2t/T)$, just as there is no correlation between\n",
    "the sine and cosine components.\n",
    "\n",
    "So we can take this to the maximum limit.  Suppose we just want to fit\n",
    "sines and cosines to our data.  How many frequencies can we fit?\n",
    "If I'm going to do this, then\n",
    "I'll need to make sure that each row of my matrix equation is linearly\n",
    "independent, which means that I'll want to make sure that each column\n",
    "of ${\\bf A}$ is orthogonal, so I can't choose frequencies that are too\n",
    "closely spaced.\n",
    "\n",
    "#### Monthly and fortnightly tides: Beats\n",
    "\n",
    "If you look at pressure records from the pier, you’ll see that the amplitude of the pressure varies on monthly and fortnightly timescales. At first glance, you might wonder if this is an extra tidal forcing that you need to take into account. In reality, it’s just the interference pattern between the M2 lunar semi-diurnal tide and the S2 solar semi-diurnal tide. To see where this comes from, think about the trigonometry identies:\n",
    "\n",
    "\n",
    "\n",
    "$$\\begin{equation}\n",
    "\\cos(\\omega_1 t)\\cos(\\omega_2 t) =  \\frac{\\cos[(\\omega_1 + \\omega_2)t] + \\cos[(\\omega_1 - \\omega_2)t]}{2}\n",
    "\\end{equation}$$\n",
    "\n",
    "\n",
    "In words, this means that the sum of two sinusoidal signals at adjacent frequencies $(\\bar\\omega \\pm \\delta)$ is the product of cosines: a rapid sinusoidal wave $\\cos(\\bar\\omega t)$ multiplied by a slow envelope $\\cos(\\delta t)$. We see this for the tidal peaks, but we also expect it for other signals. For example, think about how an annual cycle might modulate an M2 tide if for example the strength of the tide changed seasonally.\n",
    "\n",
    "#### Least-Squares Fitting Sines and Cosines\n",
    "\n",
    "Least-squares fitting is particularly tidy when the functions that we use\n",
    "for our fit, the columns of our matrix ${\\bf A}$, are completely orthogonal,\n",
    "because then\n",
    "the fit to one function has no impact on the fit to the other functions.\n",
    "\n",
    "Consider the special case where the columns of ${\\bf A}$ are made up of sines and\n",
    "cosines, so\n",
    "\n",
    "$$\\begin{equation}\n",
    "A = \\left[\\begin{array}{cccccc} 1 & \\cos(\\omega t) & \\sin(\\omega t) &\n",
    "\\cos(2\\omega t) & \\sin(2\\omega t) & \\cdots \\\\\n",
    " \\vdots & \\vdots & \\vdots & \\vdots & \\vdots & \\end{array}\\right], \\hspace{3cm} (4)\n",
    "\\end{equation}$$\n",
    "\n",
    "where $\\omega = 2\\pi/T$ and $T$ is the total duration of the data record.\n",
    "The dot product of any two columns $i$ and $j$ of ${\\bf A}$ is zero if $i\\ne j$.\n",
    "If I have data at $N$ evenly spaced time increments, $t_1, t_2, ... t_N$,\n",
    "then this orthogonality property holds for all frequencies from $\\omega$\n",
    "through $N\\omega/2$.  Since I have a sine and cosine at each frequency\n",
    "(up to frequency $N\\omega/2$ where sine might be zero at all points in\n",
    "time), this means that I can define a total of $N$ independent orthogonal\n",
    "columns in ${\\bf A}$. \n",
    "\n",
    "On the other hand, if I define a column of ${\\bf A}$ to have a frequency $\\omega/2$,\n",
    "it won't be orthogonal to my other functions over the range of this data.\n",
    "For example, between 0 and $T$, $\\sin(\\omega/2)$ varies from 0 to 1 to 0\n",
    "and is always positive, meaning that it will be positively correlated with\n",
    "a constant.   In fact, sines and cosines with frequencies that are $\\omega$\n",
    "multiplied by integers rangings from 0 to $N/2$ make a complete set that\n",
    "spans all space, and there are no additional $N$-element vectors that I can add\n",
    "to ${\\bf A}$ that would also be orthogonal to all other columns of ${\\bf A}$.\n",
    "\n",
    "The orthogonality of the columns of ${\\bf A}$ is really important.  It means\n",
    "that my solution for $x_1$ is completely independent of my solution for\n",
    "$x_2$.  Here are some results for a set of 128 random numbers, $b$.\n",
    "\n",
    "$$\\begin{eqnarray}\n",
    "\\hat b& = & -0.0629 -0.0620\\cos(\\omega t) -0.1339\\sin(\\omega t)\\hspace{3cm} (5)\\\\\n",
    "\\hat b& =& -0.0629 -0.0960\\cos(2\\omega t) +0.1117\\sin(2\\omega t)\\hspace{3cm} (6)\\\\\n",
    "\\hat b& = & -0.0629 -0.0620\\cos(\\omega t) -0.1339\\sin(\\omega t) -0.0960\\cos(2\\omega t) +0.1117\\sin(2\\omega t),\\hspace{3cm} (7)\n",
    "\\end{eqnarray}$$\n",
    "\n",
    "where $\\hat b$ is our fitted approximation to $b$.\n",
    "You can see that the amplitudes of $\\cos(\\omega t)$ and $\\cos(2\\omega t)$ are\n",
    "the same regardless of whether ${\\bf A}$ contains 3 columns or 5 columns."
   ]
  },
  {
   "cell_type": "markdown",
   "metadata": {},
   "source": [
    "Let's look at the code to compute the fit"
   ]
  },
  {
   "cell_type": "code",
   "execution_count": 56,
   "metadata": {},
   "outputs": [
    {
     "name": "stdout",
     "output_type": "stream",
     "text": [
      "(128,)\n",
      "(128, 1)\n"
     ]
    }
   ],
   "source": [
    "import numpy as np \n",
    "from numpy import pi, cos, sin\n",
    "from scipy.linalg import inv\n",
    "\n",
    "T = 128 # fake period\n",
    "t = np.arange(T) # fake time\n",
    "x = np.random.randn(T, 1) # fake data\n",
    "\n",
    "print(t.shape)\n",
    "print(x.shape)"
   ]
  },
  {
   "cell_type": "code",
   "execution_count": 61,
   "metadata": {},
   "outputs": [
    {
     "name": "stdout",
     "output_type": "stream",
     "text": [
      "(128, 5)\n"
     ]
    }
   ],
   "source": [
    "A = np.array([ np.ones(T), cos(2*pi*t/T), sin(2*pi*t/T),  cos(4*pi*t/T), sin(4*pi*t/T)]).T \n",
    "print(A.shape)"
   ]
  },
  {
   "cell_type": "code",
   "execution_count": 62,
   "metadata": {},
   "outputs": [
    {
     "name": "stdout",
     "output_type": "stream",
     "text": [
      "[[ 0.08414784]\n",
      " [ 0.19507653]\n",
      " [ 0.04211141]\n",
      " [-0.01763531]\n",
      " [-0.00529046]]\n"
     ]
    }
   ],
   "source": [
    "fit = np.dot(inv(np.dot(A.T, A)), np.dot(A.T, x))\n",
    "print(fit)"
   ]
  },
  {
   "cell_type": "markdown",
   "metadata": {},
   "source": [
    "Now, if we want only the low frequency sine and cosine"
   ]
  },
  {
   "cell_type": "code",
   "execution_count": 63,
   "metadata": {},
   "outputs": [
    {
     "name": "stdout",
     "output_type": "stream",
     "text": [
      "(128, 3)\n"
     ]
    }
   ],
   "source": [
    "A_low = A[:, :3]\n",
    "print(A_low.shape)"
   ]
  },
  {
   "cell_type": "code",
   "execution_count": 64,
   "metadata": {},
   "outputs": [
    {
     "name": "stdout",
     "output_type": "stream",
     "text": [
      "[[0.08414784]\n",
      " [0.19507653]\n",
      " [0.04211141]]\n"
     ]
    }
   ],
   "source": [
    "fit_low = np.dot(inv(np.dot(A_low.T, A_low)), np.dot(A_low.T, x))\n",
    "print(fit_low)"
   ]
  },
  {
   "cell_type": "markdown",
   "metadata": {},
   "source": [
    "Now for the high frequency"
   ]
  },
  {
   "cell_type": "code",
   "execution_count": 68,
   "metadata": {},
   "outputs": [
    {
     "name": "stdout",
     "output_type": "stream",
     "text": [
      "(128, 3)\n"
     ]
    }
   ],
   "source": [
    "A_high = A[:, [0,3,4]]\n",
    "print(A_high.shape)"
   ]
  },
  {
   "cell_type": "code",
   "execution_count": 69,
   "metadata": {},
   "outputs": [
    {
     "name": "stdout",
     "output_type": "stream",
     "text": [
      "[[ 0.08414784]\n",
      " [-0.01763531]\n",
      " [-0.00529046]]\n"
     ]
    }
   ],
   "source": [
    "fit_high = np.dot(inv(np.dot(A_high.T, A_high)), np.dot(A_high.T, x))\n",
    "print(fit_high)"
   ]
  },
  {
   "cell_type": "markdown",
   "metadata": {},
   "source": [
    "What happens if we want to fit the frequency ω/2? In this case, it won’t be orthogonal to my other functions over the range of this data. For example, between 0 and T, sin(ω/2) varies from 0 to 1 to 0 and is always positive, meaning that it will be positively correlated with a constant. In fact, sines and cosines with frequencies that are ω multiplied by integers rangings from 0 to N/2 make a complete set that spans all space, and there are no additional N-element vectors that I can add to A that would also be orthogonal to all other columns of A."
   ]
  },
  {
   "cell_type": "markdown",
   "metadata": {},
   "source": [
    "If we take a time series of $N$ elements, then the lowest frequency that\n",
    "we can resolve\n",
    "is 1 cycle per $N$ elements, so $\\cos(2\\pi i/N)$, where our counter $i$ runs\n",
    "from $1$ to $N$ (or from 0 to $N-1$).   We can find two coefficients for this:\n",
    "one for the $\\cos$ component and one for the $\\sin$ component.\n",
    "\n",
    "Actually, maybe a better way to think about this is that the lowest frequency we\n",
    "can resolve is $\\cos(0 i/N) = 1$, which is a constant and represents the mean.\n",
    "Since $\\sin(0)=0$, there is only a cosine component for frequency 0.\n",
    "\n",
    "At any rate, after considering 1 cycle per $N$ points, the next frequency we can\n",
    "resolve that will actually be fully orthogonal is 2 cycles per $N$ points.  We\n",
    "can keep counter upward:  3 cycles per $N$ points, 4 cycles per $N$ points,\n",
    "and so forth.  All of these are guaranteed to be orthogonal over our domain\n",
    "of $N$ points.\n",
    "\n",
    "What is the maximum number of cycles that we can resolve in $N$ points?\n",
    "One possibility would be that the maximum is $N$ cycles per $N$ points.\n",
    "That would require a full sinusoidal oscillation squeezed between data\n",
    "element 1 and data element 2.  But if you think about it, we wouldn't expect\n",
    "to have enough information to determine the amplitude of a sine wave that had\n",
    "to squeeze itself between consecutive observations. Moreover\n",
    "if $N$ cycles per $N$ points were the maximum, this would mean that we'd be\n",
    "solving for 2$N$\n",
    "coefficients with only $N$ data points.  Clearly that would require more\n",
    "information than we have available.\n",
    "\n",
    "Last time we noted that with N data points, we can fit a maximum of $N$ functions. If we fit sine and cosine pairs, this translates into $N/2$ cosines and $N/2$ sines. The highest frequency we can resolve is 1 cycle every 2 data points, so $N/2$ cycles in $N$ points, and this is the *Nyqust frequency*.\n",
    "And the strategy of least-squares fitting all possible frequencies that can be resolved represents the *discrete Fourier transform*. It’s a slow and inefficient Fourier transform, but it is the essence of this class and it will be the building block for everything we do in the remainder of the quarter."
   ]
  },
  {
   "cell_type": "markdown",
   "metadata": {},
   "source": [
    "#### Orthogonality and Sines and Cosines\n",
    "\n",
    "Last time we talked about the importance of having independent columns in our matrix ${\\bf A}$ and noted\n",
    "that sines and cosines are particularly useful since they are orthogonal.  Let's work through this\n",
    "a little more carefully.\n",
    "\n",
    "Consider a record of duration $T$ with $N$ data points.  I can imagine squeezing into the\n",
    "period $T$, one sine wave, or two, or three, or four.  How do I tell if my records are\n",
    "orthogonal?\n",
    "\n",
    "$$\\begin{eqnarray*}\n",
    "\\int_0^T \\sin\\left(\\frac{2\\pi n t}{T}\\right) \\sin\\left(\\frac{2\\pi m t}{T}\\right)\\, dt & = & \\frac{1}{2} \\int_0^T \\cos\\left(\\frac{2\\pi (n-m)t}{T}\\right) -\n",
    "\\cos\\left(\\frac{2\\pi (n+m)t}{T}\\right) \\, dt\\\\\n",
    " & = & \\frac{1}{2} \\frac{T}{2\\pi} \\left.\\left[ \\frac{\\sin\\left(\\frac{2\\pi (n-m)t}{T }\\right)}{n-m}- \\frac{\\sin\\left(\\frac{2\\pi  (n+m)t}{T}\\right)}{(n+m)}\\right]\\  \\right|_0^T \\\\\n",
    "& = & \\begin{cases}\n",
    "0, & \\mbox{if $n\\ne m$}\\\\\n",
    "\\frac{T}{2}, & \\mbox{if $n=m$}\n",
    "\\end{cases}\n",
    "\\end{eqnarray*}$$\n",
    "\n",
    "(What matters is that this is only non-zero in the special case when $n=m$.  For the\n",
    "moment, the fact that the integral yields $T/2$ when $n=m$ is a minor detail.)\n",
    "By extension the same applies for two cosines, or a sine multiplied by a cosine."
   ]
  },
  {
   "cell_type": "markdown",
   "metadata": {},
   "source": [
    "#### The Fourier Transform\n",
    "\n",
    "So our least-squares fit of $N$ data to $N$ sinusoids was clearly too good to be\n",
    "true, but we're not doing fitting here, so we're going to proceed along this\n",
    "line of reasoning anyway.  Our goal is to rerepresent all of the information\n",
    "in our data by projecting our data onto a different basis set. In this case\n",
    "we'll take the projection, warts and all, and we want to make sure we don't lose\n",
    "any information.\n",
    "\n",
    "So we want to represent our data via sines and cosines:\n",
    "$$\\begin{equation}\n",
    "x(t) = \\frac{a_0}{2} + \\sum_{q=1}^{\\infty}\\left(a_q \\cos(2\\pi q f_1 t) +\n",
    "b_q \\sin(2\\pi q f_1 t)\\right), \\hspace{3cm} (8)\n",
    "\\end{equation}$$\n",
    "\n",
    "where $f_q = 1/T_p$, and $T_p$ is the duration of the  record\n",
    "(following Bendat and Piersol).  Formally we should assume that the\n",
    "data are periodic over the period $T_p$.\n",
    "We find the coefficients $a$ and $b$ by projecting our data onto the\n",
    "appropriate sines and cosines:\n",
    "\n",
    "$$\\begin{equation}\n",
    "a_q = \\frac{1}{T_p} \\int_{0}^{T_p} x(t) \\cos(2\\pi q f_1 t)\\, dt \\hspace{3cm} (9)\n",
    "\\end{equation}$$\n",
    "\n",
    "and\n",
    "\n",
    "$$\\begin{equation}\n",
    "b_q = \\frac{1}{T_p} \\int_0^{T_p} x(t) \\sin(2\\pi q f_1 t)\\, dt \\hspace{3cm} (10)\n",
    "\\end{equation}$$\n",
    "\n",
    "solved for $q=0,1,2,....$\n",
    "\n",
    "It's not much fun to drag around these cosines and sines, so it's useful\n",
    "to recall that\n",
    "\n",
    "$$\\begin{eqnarray}\n",
    "\\cos\\theta & = & \\frac{\\exp(i\\theta)+\\exp(-i\\theta)}{2} \\hspace{3cm} (11)\\\\\n",
    "\\sin\\theta & = & \\frac{\\exp(i\\theta)-\\exp(-i\\theta)}{2i},  \\hspace{3cm} (12)\n",
    "\\end{eqnarray}$$\n",
    "\n",
    "which means that we could\n",
    "redo this in terms of $e^{i\\theta}$ and $e^{-i\\theta}$.\n",
    "In other words, we can represent our data as:\n",
    "\n",
    "$$\\begin{equation}\n",
    "x(t) = \\sum_{q=-\\infty}^{\\infty}\\left[\\hat{a}_q \\exp(i2\\pi q f_1 t)\\right] =\n",
    "\\sum_{q=-\\infty}^{\\infty}\\left[\\hat{a}_q \\exp(i\\sigma_q t)\\right] \\hspace{3cm} (13)\n",
    "\\end{equation}$$\n",
    "\n",
    "where $\\sigma_q = 2\\pi q/T$, and $\\hat{a}_q$ represents a complex\n",
    "Fourier coefficient.\n",
    "If we solved for our coefficients for cosine and sine, then we can easily convert\n",
    "them to find the complex  coefficients $\\hat{a}_q$\n",
    "for $\\exp(i\\sigma_q t)$ and $\\exp(-i\\sigma_q t).$\n",
    "Consider :\n",
    "\n",
    "$$\\begin{eqnarray}\n",
    "a\\cos\\theta + b\\sin\\theta & = &\\frac{a}{2}(e^{i\\theta}+e^{-i\\theta})\n",
    "+ \\frac{b}{2i}(e^{i\\theta}-e^{-i\\theta}) \\hspace{3cm} (14)\\\\\n",
    "&= & \\frac{a-ib}{2}e^{i\\theta}+ \\frac{a+ib}{2}e^{-i\\theta} \\hspace{3cm} (15).\n",
    "\\end{eqnarray}$$\n",
    "\n",
    "This tells us some important things.  The coefficients for $e^{i\\theta}$ and\n",
    "$e^{i\\theta}$ are complex conjugates.  And there's a simple relationship between\n",
    "the sine and cosine coefficients and the $e^{\\pm i\\theta}$ coefficients.\n",
    "Instead of computing $\\sum_{j=1}^N a_j \\cos(\\omega_j t)$ and\n",
    "$\\sum_{j=1}^N b_j \\sin(\\omega_j t)$, we can instead find\n",
    "$\\sum_{j=1}^N \\hat{a}_j \\exp(i\\omega_j t)$ and then use the real and imaginary\n",
    "parts to represent the cosine and sine components.  This gives us\n",
    "a quick shorthand for representing our results as sines and cosines."
   ]
  },
  {
   "cell_type": "markdown",
   "metadata": {},
   "source": [
    "Fourier transform in continuous form\n",
    "Bracewell’s nice book on the Fourier transform refers to the data as $f(x)$ and its Fourier transform as $F(s)$, where $x$ could be interpreted as time, for example, and s as frequency. Here I’ve rewritten to roughly use Bendat and Piersol’s notation. In continuous form, the Fourier transform of $x(t)$ is $X(\\omega)$ (where $\\omega = qf_1$), and the process can be inverted to recover $x(t)$.\n"
   ]
  },
  {
   "cell_type": "markdown",
   "metadata": {},
   "source": [
    "\\begin{eqnarray}\n",
    "X(\\omega) & = & \\int_{-\\infty}^{\\infty} x(t) e^{-i2\\pi t\\omega}\\, dt \\hspace{3cm} (16) \\\\\n",
    "x(t) & = & \\int_{-\\infty}^{\\infty} X(\\omega)  e^{i2\\pi t\\omega}\\, d\\omega \\hspace{3cm} (17)\n",
    "\\end{eqnarray}"
   ]
  },
  {
   "cell_type": "markdown",
   "metadata": {},
   "source": [
    "(following Bracewell).\n",
    "But there are lots of alternate definitions in the literature:"
   ]
  },
  {
   "cell_type": "markdown",
   "metadata": {},
   "source": [
    "\\begin{eqnarray}\n",
    "X(\\sigma) & = & \\int_{-\\infty}^{\\infty} x(t) e^{-it\\sigma}\\, dt \\hspace{3cm} (18)\\\\\n",
    "x(t) & = & \\frac{1}{2\\pi} \\int_{-\\infty}^{\\infty} X(\\sigma)  e^{it\\sigma}\\, d\\sigma \\hspace{3cm} (19)\n",
    "\\end{eqnarray}"
   ]
  },
  {
   "cell_type": "markdown",
   "metadata": {},
   "source": [
    "or"
   ]
  },
  {
   "cell_type": "markdown",
   "metadata": {},
   "source": [
    "\\begin{eqnarray}\n",
    "X(\\sigma) & = & \\frac{1}{\\sqrt{2\\pi}} \\int_{-\\infty}^{\\infty} x(t) e^{-it\\sigma}\\, dt \\hspace{3cm} (20)\\\\\n",
    "x(t) & = & \\frac{1}{\\sqrt{2\\pi}} \\int_{-\\infty}^{\\infty} X(\\sigma)  e^{it\\sigma}\\, d\\sigma \\hspace{3cm} (21)\n",
    "\\end{eqnarray}"
   ]
  },
  {
   "cell_type": "markdown",
   "metadata": {},
   "source": [
    "So we always have to be careful about our syntax. Given the vast array of notation, we’re going to try very hard to stick to Bendat and Piersol’s\n",
    "forms:"
   ]
  },
  {
   "cell_type": "markdown",
   "metadata": {},
   "source": [
    "\\begin{eqnarray}\n",
    "X(f) & = & \\int_{-\\infty}^{\\infty} x(t) e^{-i2\\pi f t}\\, dt \\hspace{3cm} (22)\\\\\n",
    "x(t) & = & \\int_{-\\infty}^{\\infty} X(f)  e^{i2\\pi ft}\\, df \\hspace{3cm} (23)\n",
    "\\end{eqnarray}"
   ]
  },
  {
   "cell_type": "markdown",
   "metadata": {},
   "source": [
    "The same questions about choices of notation apply in the discrete form that we consider when we analyze data. And we can get ourselves really confused. So we have to keep in mind one rule: we don’t get to create energy. That means that we need to have the same total variance in our data set in the time domain as we have in the frequency domain. This is Parseval’s theorem, and we’ll return to it."
   ]
  }
 ],
 "metadata": {
  "kernelspec": {
   "display_name": "Python 3",
   "language": "python",
   "name": "python3"
  },
  "language_info": {
   "codemirror_mode": {
    "name": "ipython",
    "version": 3
   },
   "file_extension": ".py",
   "mimetype": "text/x-python",
   "name": "python",
   "nbconvert_exporter": "python",
   "pygments_lexer": "ipython3",
   "version": "3.7.9"
  }
 },
 "nbformat": 4,
 "nbformat_minor": 4
}

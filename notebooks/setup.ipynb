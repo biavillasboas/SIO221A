{
 "cells": [
  {
   "cell_type": "markdown",
   "metadata": {},
   "source": [
    "# Instructions for how to set up a conda environment to run the lecture notes locally"
   ]
  },
  {
   "cell_type": "markdown",
   "metadata": {},
   "source": [
    "1. Go to the link below and download the `enviroment.yml` file to your machine.\n",
    "\n",
    "https://github.com/biavillasboas/SIO221A/edit/master/environment.yml"
   ]
  },
  {
   "cell_type": "markdown",
   "metadata": {},
   "source": [
    "## How to set-up"
   ]
  },
  {
   "cell_type": "markdown",
   "metadata": {},
   "source": [
    "## Linux and Mac\n",
    "\n",
    "Open a terminal and navigate to the directory that you saved the  environment.ym file. Then run:\n",
    "\n",
    "`conda env create -f environment.yml`\n",
    "\n",
    "Wait until the packages are intalled. \n",
    "\n",
    "To use the enviroment, open the terminal and run:\n",
    "\n",
    "`conda activate SIO221A`\n",
    "\n",
    "after you activate the environment, you can launch jupyter lab or jupyter notebook from your terminal\n",
    "\n",
    "`jupter lab`"
   ]
  },
  {
   "cell_type": "markdown",
   "metadata": {},
   "source": [
    "## Windows \n",
    "\n",
    "The instructions below should be followed after openning the Anaconda navigator. You can find detailed instruction [here](https://docs.anaconda.com/anaconda/navigator/tutorials/manage-environments/).\n",
    "\n",
    "\n",
    "### Importing an environment\n",
    "\n",
    "Each environment has a YAML-formatted configuration file. If someone has given you an environment file that you want to use, for example my-environment-file.yml, and you have saved it to your computer, you can import it into Navigator.\n",
    "\n",
    "1. At the bottom of the environments list, click the Import button.\n",
    "\n",
    "2. In the Import dialog box, type a descriptive name for the new environment.\n",
    "\n",
    "3. Click the file folder icon to browse to the YAML file, or type the file name, including its path.\n",
    "\n",
    "4. Click the Import button\n",
    "\n",
    "\n",
    "### Using an environment\n",
    "\n",
    "In the environments list, click the environment name.\n",
    "Click the arrow button next to the name. The activation options dialog appears.\n",
    "Select one of the following options for opening the environment: terminal, Python interpreter, IPython Cons"
   ]
  }
 ],
 "metadata": {
  "kernelspec": {
   "display_name": "Python 3 (ipykernel)",
   "language": "python",
   "name": "python3"
  },
  "language_info": {
   "codemirror_mode": {
    "name": "ipython",
    "version": 3
   },
   "file_extension": ".py",
   "mimetype": "text/x-python",
   "name": "python",
   "nbconvert_exporter": "python",
   "pygments_lexer": "ipython3",
   "version": "3.9.7"
  }
 },
 "nbformat": 4,
 "nbformat_minor": 4
}

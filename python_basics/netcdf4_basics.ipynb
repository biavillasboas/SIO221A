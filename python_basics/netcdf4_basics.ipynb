{
 "cells": [
  {
   "cell_type": "markdown",
   "metadata": {},
   "source": [
    "# Reading netCDF files using the netCDF4 library"
   ]
  },
  {
   "cell_type": "markdown",
   "metadata": {},
   "source": [
    "We start the notebook with the comand \"%matplotlib inline\" which tells matplotlib to display plots on the notebook itself."
   ]
  },
  {
   "cell_type": "code",
   "execution_count": 5,
   "metadata": {},
   "outputs": [],
   "source": [
    "%matplotlib inline"
   ]
  },
  {
   "cell_type": "markdown",
   "metadata": {},
   "source": [
    "In the cell below we import the libraries that will be used in this notebook. There are currently many ways to read netCDF files in Python. On this notebook we will use the [netCDF4 library](https://unidata.github.io/netcdf4-python/netCDF4/index.html). If you are using Anaconda, you can install this library with:\n",
    "\n",
    "`$conda install -c anaconda netcdf4`"
   ]
  },
  {
   "cell_type": "code",
   "execution_count": 3,
   "metadata": {},
   "outputs": [],
   "source": [
    "import numpy as np # numpy does most of the operations involving arrays\n",
    "import matplotlib.pyplot as plt # matplotlib does graphics\n",
    "from netCDF4 import Dataset, num2date # netCDF4 handles netCDF files"
   ]
  },
  {
   "cell_type": "markdown",
   "metadata": {},
   "source": [
    "The line below specifies the path to the netCDF file we want to read. The netCDF4 library can read either from a local directory or from a remote data servers such as [ERDDAP](https://coastwatch.pfeg.noaa.gov/erddap/index.html) and [THREDDS](https://www.unidata.ucar.edu/software/tds/current/). In this example we'll be looking at surface wave data off the Scripps pier from [CDIP's](https://cdip.ucsd.edu/) buoy 201. "
   ]
  },
  {
   "cell_type": "code",
   "execution_count": 1,
   "metadata": {},
   "outputs": [],
   "source": [
    "path = \"http://thredds.cdip.ucsd.edu/thredds/dodsC/cdip/realtime/201p1_rt.nc\""
   ]
  },
  {
   "cell_type": "markdown",
   "metadata": {},
   "source": [
    "The function \"Dataset\" is used to open the netCDF. We specify that we're opening it on reading mode with the option 'r'."
   ]
  },
  {
   "cell_type": "code",
   "execution_count": 4,
   "metadata": {},
   "outputs": [],
   "source": [
    "nc = Dataset(path, 'r') "
   ]
  },
  {
   "cell_type": "markdown",
   "metadata": {},
   "source": [
    " Now we have created the object `nc`. Let's check what is on this object:"
   ]
  },
  {
   "cell_type": "code",
   "execution_count": 6,
   "metadata": {},
   "outputs": [
    {
     "name": "stdout",
     "output_type": "stream",
     "text": [
      "['Conventions', 'DODS.dimName', 'DODS.strlen', '__class__', '__delattr__', '__dir__', '__doc__', '__enter__', '__eq__', '__exit__', '__format__', '__ge__', '__getattr__', '__getattribute__', '__getitem__', '__gt__', '__hash__', '__init__', '__init_subclass__', '__le__', '__lt__', '__ne__', '__new__', '__orthogonal_indexing__', '__reduce__', '__reduce_ex__', '__repr__', '__setattr__', '__sizeof__', '__str__', '__subclasshook__', '__unicode__', '_close', '_enddef', '_grpid', '_isopen', '_redef', 'acknowledgment', 'cdip_station_id', 'cdm_data_type', 'close', 'cmptypes', 'comment', 'contributor_name', 'contributor_role', 'createCompoundType', 'createDimension', 'createEnumType', 'createGroup', 'createVLType', 'createVariable', 'creator_email', 'creator_name', 'creator_url', 'data_model', 'date_created', 'date_issued', 'date_modified', 'delncattr', 'dimensions', 'disk_format', 'enumtypes', 'featureType', 'file_format', 'filepath', 'geospatial_lat_max', 'geospatial_lat_min', 'geospatial_lat_resolution', 'geospatial_lat_units', 'geospatial_lon_max', 'geospatial_lon_min', 'geospatial_lon_resolution', 'geospatial_lon_units', 'geospatial_vertical_max', 'geospatial_vertical_min', 'geospatial_vertical_origin', 'geospatial_vertical_positive', 'geospatial_vertical_resolution', 'geospatial_vertical_units', 'get_variables_by_attributes', 'getncattr', 'groups', 'history', 'id', 'institution', 'instrument', 'isopen', 'keepweakref', 'keywords', 'keywords_vocabulary', 'license', 'metadata_link', 'naming_authority', 'ncattrs', 'ncei_template_version', 'parent', 'path', 'platform', 'processing_level', 'project', 'publisher_email', 'publisher_name', 'publisher_url', 'references', 'renameAttribute', 'renameDimension', 'renameGroup', 'renameVariable', 'set_always_mask', 'set_auto_chartostring', 'set_auto_mask', 'set_auto_maskandscale', 'set_auto_scale', 'set_fill_off', 'set_fill_on', 'setncattr', 'setncattr_string', 'setncatts', 'source', 'standard_name_vocabulary', 'summary', 'sync', 'time_coverage_duration', 'time_coverage_end', 'time_coverage_resolution', 'time_coverage_start', 'title', 'uuid', 'variables', 'vltypes', 'wmo_id']\n"
     ]
    }
   ],
   "source": [
    "print(dir(nc))"
   ]
  },
  {
   "cell_type": "markdown",
   "metadata": {},
   "source": [
    "We note that, among other things, the object nc has \"variables\". Now let'see what is on `variables` "
   ]
  },
  {
   "cell_type": "code",
   "execution_count": 11,
   "metadata": {},
   "outputs": [
    {
     "name": "stdout",
     "output_type": "stream",
     "text": [
      "['_OrderedDict__map', '_OrderedDict__marker', '_OrderedDict__root', '_OrderedDict__update', '__class__', '__cmp__', '__contains__', '__delattr__', '__delitem__', '__dict__', '__doc__', '__eq__', '__format__', '__ge__', '__getattribute__', '__getitem__', '__gt__', '__hash__', '__init__', '__iter__', '__le__', '__len__', '__lt__', '__module__', '__ne__', '__new__', '__reduce__', '__reduce_ex__', '__repr__', '__reversed__', '__setattr__', '__setitem__', '__sizeof__', '__str__', '__subclasshook__', '__weakref__', 'clear', 'copy', 'fromkeys', 'get', 'has_key', 'items', 'iteritems', 'iterkeys', 'itervalues', 'keys', 'pop', 'popitem', 'setdefault', 'update', 'values', 'viewitems', 'viewkeys', 'viewvalues']\n"
     ]
    }
   ],
   "source": [
    "print(dir(nc.variables))"
   ]
  },
  {
   "cell_type": "markdown",
   "metadata": {},
   "source": [
    "We can also check the type of `nc.variables` by typing:"
   ]
  },
  {
   "cell_type": "code",
   "execution_count": 7,
   "metadata": {},
   "outputs": [
    {
     "name": "stdout",
     "output_type": "stream",
     "text": [
      "<class 'collections.OrderedDict'>\n"
     ]
    }
   ],
   "source": [
    "print(type(nc.variables))"
   ]
  },
  {
   "cell_type": "markdown",
   "metadata": {},
   "source": [
    "So, nc.variables is a dictionary. Let's check its keys."
   ]
  },
  {
   "cell_type": "code",
   "execution_count": 9,
   "metadata": {},
   "outputs": [
    {
     "name": "stdout",
     "output_type": "stream",
     "text": [
      "odict_keys(['sourceFilename', 'waveTime', 'waveTimeBounds', 'waveFlagPrimary', 'waveFlagSecondary', 'waveHs', 'waveTp', 'waveTa', 'waveDp', 'wavePeakPSD', 'waveTz', 'waveSourceIndex', 'waveFrequency', 'waveFrequencyBounds', 'waveFrequencyFlagPrimary', 'waveFrequencyFlagSecondary', 'waveBandwidth', 'sstTime', 'sstTimeBounds', 'sstFlagPrimary', 'sstFlagSecondary', 'sstSeaSurfaceTemperature', 'sstSourceIndex', 'sstReferenceTemp', 'gpsTime', 'gpsTimeBounds', 'gpsStatusFlags', 'gpsLatitude', 'gpsLongitude', 'gpsSourceIndex', 'dwrTime', 'dwrTimeBounds', 'dwrSourceIndex', 'dwrBatteryLevel', 'dwrZAccelerometerOffset', 'dwrXAccelerometerOffset', 'dwrYAccelerometerOffset', 'dwrOrientation', 'dwrInclination', 'dwrBatteryWeeksOfLife', 'cat4Time', 'cat4TimeBounds', 'cat4FlagPrimary', 'cat4FlagSecondary', 'cat4AirTemperature', 'cat4SourceIndex', 'cat4StatusFlags', 'cat4WhiteTemperature', 'cat4BlackTemperature', 'cat4MetalTemperature', 'cat4GroovedTemperature', 'metaStationName', 'metaPlatform', 'metaInstrumentation', 'metaDeployLatitude', 'metaDeployLongitude', 'metaWaterDepth', 'metaDeclination', 'metaGridMapping', 'waveEnergyDensity', 'waveMeanDirection', 'waveA1Value', 'waveB1Value', 'waveA2Value', 'waveB2Value', 'waveCheckFactor', 'waveSpread', 'waveM2Value', 'waveN2Value'])\n"
     ]
    }
   ],
   "source": [
    "print(nc.variables.keys())"
   ]
  },
  {
   "cell_type": "markdown",
   "metadata": {},
   "source": [
    "This tell us that this netCDF file has the variables waveTime, waveHs, metaDeployLatitude... etc. We may wonder what waveHs is. The beauty of the netCDF format is that it stores all the information for us as metadata, and if done properly, there should be all the information needed to understand the data. As an example, let's check `nc.variables['waveHs']`"
   ]
  },
  {
   "cell_type": "code",
   "execution_count": 11,
   "metadata": {},
   "outputs": [
    {
     "name": "stdout",
     "output_type": "stream",
     "text": [
      "['_FillValue', '__array__', '__class__', '__delattr__', '__delitem__', '__dir__', '__doc__', '__eq__', '__format__', '__ge__', '__getattr__', '__getattribute__', '__getitem__', '__gt__', '__hash__', '__init__', '__init_subclass__', '__le__', '__len__', '__lt__', '__ne__', '__new__', '__orthogonal_indexing__', '__reduce__', '__reduce_ex__', '__repr__', '__setattr__', '__setitem__', '__sizeof__', '__str__', '__subclasshook__', '__unicode__', '_assign_vlen', '_check_safecast', '_cmptype', '_enumtype', '_get', '_getdims', '_getname', '_grp', '_grpid', '_has_lsd', '_iscompound', '_isenum', '_isprimitive', '_isvlen', '_name', '_no_get_vars', '_nunlimdim', '_put', '_toma', '_varid', '_vltype', 'always_mask', 'ancillary_variables', 'assignValue', 'chartostring', 'chunking', 'coordinates', 'datatype', 'delncattr', 'dimensions', 'dtype', 'endian', 'filters', 'getValue', 'get_dims', 'get_var_chunk_cache', 'getncattr', 'grid_mapping', 'group', 'long_name', 'mask', 'name', 'ncattrs', 'ncei_name', 'ndim', 'renameAttribute', 'scale', 'set_always_mask', 'set_auto_chartostring', 'set_auto_mask', 'set_auto_maskandscale', 'set_auto_scale', 'set_collective', 'set_var_chunk_cache', 'setncattr', 'setncattr_string', 'setncatts', 'shape', 'size', 'standard_name', 'units', 'use_nc_get_vars', 'valid_max', 'valid_min']\n"
     ]
    }
   ],
   "source": [
    "print(dir(nc.variables['waveHs']))"
   ]
  },
  {
   "cell_type": "markdown",
   "metadata": {},
   "source": [
    "We can check the attributes of a given variable, by:"
   ]
  },
  {
   "cell_type": "code",
   "execution_count": 12,
   "metadata": {},
   "outputs": [
    {
     "name": "stdout",
     "output_type": "stream",
     "text": [
      "['long_name', 'units', '_FillValue', 'standard_name', 'coordinates', 'grid_mapping', 'valid_min', 'valid_max', 'ancillary_variables', 'ncei_name']\n"
     ]
    }
   ],
   "source": [
    "print(nc.variables['waveHs'].ncattrs())"
   ]
  },
  {
   "cell_type": "markdown",
   "metadata": {},
   "source": [
    "Now lets loop trhough all the attributes"
   ]
  },
  {
   "cell_type": "code",
   "execution_count": 13,
   "metadata": {},
   "outputs": [
    {
     "name": "stdout",
     "output_type": "stream",
     "text": [
      "long_name : significant wave height\n",
      "units : meter\n",
      "_FillValue : -999.99\n",
      "standard_name : sea_surface_wave_significant_height\n",
      "coordinates : metaDeployLatitude metaDeployLongitude\n",
      "grid_mapping : metaGridMapping\n",
      "valid_min : 0.0\n",
      "valid_max : 20.0\n",
      "ancillary_variables : waveFlagPrimary waveFlagSecondary\n",
      "ncei_name : WAVE HEIGHT - SIGNIFICANT\n"
     ]
    }
   ],
   "source": [
    "for at in nc.variables['waveHs'].ncattrs():\n",
    "    print(\"%s : %s\" %(at, nc.variables['waveHs'].getncattr(at)))"
   ]
  },
  {
   "cell_type": "markdown",
   "metadata": {},
   "source": [
    "We can also check the dimensions of a given variable"
   ]
  },
  {
   "cell_type": "code",
   "execution_count": 15,
   "metadata": {},
   "outputs": [
    {
     "name": "stdout",
     "output_type": "stream",
     "text": [
      "('waveTime',)\n"
     ]
    }
   ],
   "source": [
    "print(nc.variables['waveHs'].dimensions)"
   ]
  },
  {
   "cell_type": "markdown",
   "metadata": {},
   "source": [
    "One important thing to note when dealing with netCDFs is the way to handle time. In order optimize the storage, time is usually saved as an integer relative to a given reference date (e.g. \"days since 1900-01-01\", or \"hours since 1987-01-01 00:00:0.0). Let's see how to convert the netCDF time to a more meaningful time."
   ]
  },
  {
   "cell_type": "code",
   "execution_count": 18,
   "metadata": {},
   "outputs": [
    {
     "name": "stdout",
     "output_type": "stream",
     "text": [
      "[1543950225 1543952025 1543953825 ... 1568257335 1568259135 1568260935]\n"
     ]
    }
   ],
   "source": [
    "print(nc.variables['waveTime'][:])"
   ]
  },
  {
   "cell_type": "code",
   "execution_count": 19,
   "metadata": {},
   "outputs": [
    {
     "name": "stdout",
     "output_type": "stream",
     "text": [
      "['long_name', 'standard_name', 'units', 'calendar', 'axis', 'bounds', 'comment']\n"
     ]
    }
   ],
   "source": [
    "print(nc.variables['waveTime'].ncattrs())"
   ]
  },
  {
   "cell_type": "markdown",
   "metadata": {},
   "source": [
    "So, the variable \"time\" has an attribute called \"units\", that shows the reference time for this file. In this case \"hours since 1918-05-01\""
   ]
  },
  {
   "cell_type": "code",
   "execution_count": 20,
   "metadata": {},
   "outputs": [
    {
     "name": "stdout",
     "output_type": "stream",
     "text": [
      "seconds since 1970-01-01 00:00:00 UTC\n"
     ]
    }
   ],
   "source": [
    "print(nc.variables['waveTime'].units)"
   ]
  },
  {
   "cell_type": "markdown",
   "metadata": {},
   "source": [
    "We can use the function `num2date` to convert the values on `nc.variables['time'][:]`, to actual time using its given units. In this way, we don't have to worry reference time, about leap years, or timestep."
   ]
  },
  {
   "cell_type": "code",
   "execution_count": 21,
   "metadata": {},
   "outputs": [],
   "source": [
    "time = num2date(nc.variables['waveTime'][:], nc.variables['waveTime'].units)"
   ]
  },
  {
   "cell_type": "code",
   "execution_count": 24,
   "metadata": {},
   "outputs": [
    {
     "name": "stdout",
     "output_type": "stream",
     "text": [
      "[datetime.datetime(2018, 12, 4, 19, 3, 45)\n",
      " datetime.datetime(2018, 12, 4, 19, 33, 45)\n",
      " datetime.datetime(2018, 12, 4, 20, 3, 45) ...\n",
      " datetime.datetime(2019, 9, 12, 3, 2, 15)\n",
      " datetime.datetime(2019, 9, 12, 3, 32, 15)\n",
      " datetime.datetime(2019, 9, 12, 4, 2, 15)]\n"
     ]
    }
   ],
   "source": [
    "print(time)"
   ]
  },
  {
   "cell_type": "markdown",
   "metadata": {},
   "source": [
    "Now lets read the significant wave height. And check its shape."
   ]
  },
  {
   "cell_type": "code",
   "execution_count": 25,
   "metadata": {},
   "outputs": [],
   "source": [
    "swh = nc.variables['waveHs'][:]"
   ]
  },
  {
   "cell_type": "code",
   "execution_count": 26,
   "metadata": {},
   "outputs": [
    {
     "name": "stdout",
     "output_type": "stream",
     "text": [
      "(13375,)\n",
      "(13375,)\n"
     ]
    }
   ],
   "source": [
    "print(time.shape)\n",
    "print(swh.shape)"
   ]
  },
  {
   "cell_type": "markdown",
   "metadata": {},
   "source": [
    "Finally, let's plot the significant wave height as a function of time"
   ]
  },
  {
   "cell_type": "code",
   "execution_count": 32,
   "metadata": {},
   "outputs": [
    {
     "data": {
      "text/plain": [
       "Text(0.5, 1.0, 'Significan Wave Height')"
      ]
     },
     "execution_count": 32,
     "metadata": {},
     "output_type": "execute_result"
    },
    {
     "data": {
      "image/png": "[encoded data removed]",
      "text/plain": [
       "<Figure size 1152x432 with 1 Axes>"
      ]
     },
     "metadata": {
      "needs_background": "light"
     },
     "output_type": "display_data"
    }
   ],
   "source": [
    "plt.figure(figsize=(16,6)) # this creates a figure\n",
    "plt.plot(time, swh) # this is the comand to plots x=t and y=swh\n",
    "plt.ylabel('H$_s$ [m]', fontsize=14) \n",
    "plt.xlabel('time', fontsize=14)\n",
    "plt.grid('dotted')\n",
    "plt.title('Significan Wave Height', fontsize=16) # sets the plot title"
   ]
  }
 ],
 "metadata": {
  "kernelspec": {
   "display_name": "Python 2",
   "language": "python",
   "name": "python2"
  },
  "language_info": {
   "codemirror_mode": {
    "name": "ipython",
    "version": 3
   },
   "file_extension": ".py",
   "mimetype": "text/x-python",
   "name": "python",
   "nbconvert_exporter": "python",
   "pygments_lexer": "ipython3",
   "version": "3.7.3"
  }
 },
 "nbformat": 4,
 "nbformat_minor": 1
}

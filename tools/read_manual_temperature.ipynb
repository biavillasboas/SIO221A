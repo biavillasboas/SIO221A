{
 "cells": [
  {
   "cell_type": "code",
   "execution_count": null,
   "metadata": {},
   "outputs": [],
   "source": [
    "%matplotlib inline\n",
    "import pandas as pd\n",
    "import datetime\n",
    "import numpy as np"
   ]
  },
  {
   "cell_type": "code",
   "execution_count": null,
   "metadata": {},
   "outputs": [],
   "source": [
    "manual_temp = 'https://scripps.ucsd.edu/programs/shorestations/wp-content/uploads/sites/96/2019/08/SIO_TEMP_1916_201905.txt'\n",
    "df = pd.read_csv(manual_temp, sep='\\t', skiprows=26, usecols=['YEAR', 'MONTH', 'DAY', 'SURF_TEMP_C'])"
   ]
  },
  {
   "cell_type": "code",
   "execution_count": null,
   "metadata": {},
   "outputs": [],
   "source": [
    "dates = []\n",
    "for i in range(len(df.index)):\n",
    "    try:\n",
    "        dates.append(datetime.date(int(df.loc[i].YEAR), int(df.loc[i].MONTH), int(df.loc[i].DAY)))\n",
    "    except: \n",
    "        dates.append(np.nan)"
   ]
  },
  {
   "cell_type": "code",
   "execution_count": null,
   "metadata": {},
   "outputs": [],
   "source": [
    "df.drop(columns=['YEAR', 'MONTH', 'DAY'], inplace=True)\n",
    "df['dates'] = dates\n",
    "df.set_index('dates', inplace=True)\n",
    "df.rename(columns={'SURF_TEMP_C': 'temperature'},inplace=True)"
   ]
  },
  {
   "cell_type": "code",
   "execution_count": null,
   "metadata": {},
   "outputs": [],
   "source": [
    "df.head()"
   ]
  },
  {
   "cell_type": "code",
   "execution_count": null,
   "metadata": {},
   "outputs": [],
   "source": [
    "df.plot(figsize=(12,6))"
   ]
  },
  {
   "cell_type": "code",
   "execution_count": null,
   "metadata": {},
   "outputs": [],
   "source": []
  }
 ],
 "metadata": {
  "kernelspec": {
   "display_name": "Python 3",
   "language": "python",
   "name": "python3"
  },
  "language_info": {
   "codemirror_mode": {
    "name": "ipython",
    "version": 3
   },
   "file_extension": ".py",
   "mimetype": "text/x-python",
   "name": "python",
   "nbconvert_exporter": "python",
   "pygments_lexer": "ipython3",
   "version": "3.7.3"
  }
 },
 "nbformat": 4,
 "nbformat_minor": 2
}
